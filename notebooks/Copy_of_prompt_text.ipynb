{
  "nbformat": 4,
  "nbformat_minor": 0,
  "metadata": {
    "colab": {
      "provenance": []
    },
    "kernelspec": {
      "name": "python3",
      "display_name": "Python 3"
    },
    "language_info": {
      "name": "python"
    }
  },
  "cells": [
    {
      "cell_type": "code",
      "source": [
        "!pip install transformers\n",
        "!pip install openai-clip"
      ],
      "metadata": {
        "colab": {
          "base_uri": "https://localhost:8080/",
          "height": 574
        },
        "id": "yozDushcUkhN",
        "outputId": "9223d9a2-a1af-49a0-af3d-81d1e03bb67a"
      },
      "execution_count": null,
      "outputs": [
        {
          "output_type": "stream",
          "name": "stdout",
          "text": [
            "Found existing installation: clip 0.2.0\n",
            "Uninstalling clip-0.2.0:\n",
            "  Would remove:\n",
            "    /usr/local/bin/clip\n",
            "    /usr/local/lib/python3.10/dist-packages/clip-0.2.0.dist-info/*\n",
            "    /usr/local/lib/python3.10/dist-packages/clip/*\n",
            "Proceed (Y/n)? y\n",
            "  Successfully uninstalled clip-0.2.0\n",
            "Looking in indexes: https://pypi.org/simple, https://us-python.pkg.dev/colab-wheels/public/simple/\n",
            "Collecting openai-clip\n",
            "  Downloading openai-clip-1.0.1.tar.gz (1.4 MB)\n",
            "\u001b[2K     \u001b[90m━━━━━━━━━━━━━━━━━━━━━━━━━━━━━━━━━━━━━━━━\u001b[0m \u001b[32m1.4/1.4 MB\u001b[0m \u001b[31m19.0 MB/s\u001b[0m eta \u001b[36m0:00:00\u001b[0m\n",
            "\u001b[?25h  Preparing metadata (setup.py) ... \u001b[?25l\u001b[?25hdone\n",
            "Collecting ftfy\n",
            "  Downloading ftfy-6.1.1-py3-none-any.whl (53 kB)\n",
            "\u001b[2K     \u001b[90m━━━━━━━━━━━━━━━━━━━━━━━━━━━━━━━━━━━━━━━━\u001b[0m \u001b[32m53.1/53.1 kB\u001b[0m \u001b[31m6.8 MB/s\u001b[0m eta \u001b[36m0:00:00\u001b[0m\n",
            "\u001b[?25hRequirement already satisfied: regex in /usr/local/lib/python3.10/dist-packages (from openai-clip) (2022.10.31)\n",
            "Requirement already satisfied: tqdm in /usr/local/lib/python3.10/dist-packages (from openai-clip) (4.65.0)\n",
            "Requirement already satisfied: wcwidth>=0.2.5 in /usr/local/lib/python3.10/dist-packages (from ftfy->openai-clip) (0.2.6)\n",
            "Building wheels for collected packages: openai-clip\n",
            "  Building wheel for openai-clip (setup.py) ... \u001b[?25l\u001b[?25hdone\n",
            "  Created wheel for openai-clip: filename=openai_clip-1.0.1-py3-none-any.whl size=1368637 sha256=0d621b45acf57812b531df6572f3cfa63e82c3165d415b4d627021517406adc4\n",
            "  Stored in directory: /root/.cache/pip/wheels/08/77/8e/8d2f862df6bf7fb4e2007062d2cbaeae49862ec7b56d041229\n",
            "Successfully built openai-clip\n",
            "Installing collected packages: ftfy, openai-clip\n",
            "Successfully installed ftfy-6.1.1 openai-clip-1.0.1\n"
          ]
        },
        {
          "output_type": "display_data",
          "data": {
            "application/vnd.colab-display-data+json": {
              "pip_warning": {
                "packages": [
                  "clip"
                ]
              }
            }
          },
          "metadata": {}
        }
      ]
    },
    {
      "cell_type": "code",
      "execution_count": null,
      "metadata": {
        "colab": {
          "base_uri": "https://localhost:8080/"
        },
        "id": "xQ1qSlaCSqBg",
        "outputId": "c23dea49-d9c5-4e6c-e981-49562b299079"
      },
      "outputs": [
        {
          "output_type": "stream",
          "name": "stdout",
          "text": [
            "wasteland 2d pixel art cave\n"
          ]
        }
      ],
      "source": [
        "import random\n",
        "import numpy as np\n",
        "\n",
        "phrase_list = ['2d', 'pixel art', 'cave', 'scifi', 'side scrolling', 'chibi', 'waifu', 'space ship', 'desert', 'city', 'wasteland', 'mega structure', 'steal', 'stone', 'rock']\n",
        "\n",
        "def prompt_generator(phrase_list, prompt_word_length=32):\n",
        "    prompt = ''\n",
        "    while len(prompt) < prompt_word_length:\n",
        "        phrase = random.choice(phrase_list)\n",
        "        if len(prompt) + len(phrase) + 1 <= prompt_word_length:\n",
        "            prompt += phrase + ' '\n",
        "        else:\n",
        "            break\n",
        "    return prompt.strip()\n",
        "\n",
        "# example usage:\n",
        "prompt=prompt_generator(phrase_list) \n",
        "print(prompt_generator(phrase_list))\n"
      ]
    },
    {
      "cell_type": "code",
      "source": [
        "print(prompt)"
      ],
      "metadata": {
        "colab": {
          "base_uri": "https://localhost:8080/"
        },
        "id": "u7Jht2TnpWDP",
        "outputId": "ece77709-a45a-4055-d121-e0023b7fdb88"
      },
      "execution_count": null,
      "outputs": [
        {
          "output_type": "stream",
          "name": "stdout",
          "text": [
            "scifi mega structure rock cave\n"
          ]
        }
      ]
    },
    {
      "cell_type": "code",
      "source": [
        "import torch\n",
        "import clip\n",
        "import numpy as np\n",
        "\n",
        "# Load the CLIP model\n",
        "device = \"cuda\" if torch.cuda.is_available() else \"cpu\"\n",
        "model, preprocess = clip.load(\"ViT-B/32\", device=device)\n",
        "\n",
        "# Tokenize and encode the prompt\n",
        "prompt = \"scifi mega structure rock cave\"\n",
        "tokens = clip.tokenize(prompt).to(device)\n",
        "print(\"Size of tokens:\", tokens.shape)\n",
        "with torch.no_grad():\n",
        "    text_features = model.encode_text(tokens).float()\n",
        "    text_features /= text_features.norm(dim=-1, keepdim=True)\n",
        "\n",
        "# Convert the embedding to a numpy array\n",
        "embedding = text_features.cpu().numpy()\n",
        "\n",
        "print(\"Text embedding shape:\",embedding.shape)  # should print (1, 512)\n",
        "\n",
        "\n"
      ],
      "metadata": {
        "colab": {
          "base_uri": "https://localhost:8080/"
        },
        "id": "x-9eq9c0caIf",
        "outputId": "6c9b93a0-6f83-4644-90f7-6cbb8a56a3de"
      },
      "execution_count": null,
      "outputs": [
        {
          "output_type": "stream",
          "name": "stdout",
          "text": [
            "Size of tokens: torch.Size([1, 77])\n",
            "Text embedding shape: (1, 512)\n"
          ]
        }
      ]
    },
    {
      "cell_type": "code",
      "source": [
        "import json\n",
        "import torch\n",
        "import clip\n",
        "\n",
        "N=3\n",
        "\n",
        "# Load the CLIP model\n",
        "device = \"cuda\" if torch.cuda.is_available() else \"cpu\"\n",
        "model, preprocess = clip.load(\"ViT-B/32\", device=device)\n",
        "\n",
        "def generate_prompts_with_embeddings(num_prompts):\n",
        "    prompts = []\n",
        "    for i in range(num_prompts):\n",
        "        prompt = \"scifi mega structure rock cave\"\n",
        "        tokens = clip.tokenize(prompt).to(device)\n",
        "        text_features = model.encode_text(tokens).float()\n",
        "        text_features /= text_features.norm(dim=-1, keepdim=True)\n",
        "        prompt_data = {\n",
        "            \"prompt\": prompt,\n",
        "            \"word_embedding\": tokens[0].tolist(),\n",
        "            \"clip_embedding\": text_features[0].tolist(),\n",
        "        }\n",
        "        prompts.append(prompt_data)\n",
        "    \n",
        "    with open(\"prompts_with_embeddings.json\", \"w\") as f:\n",
        "        json.dump(prompts, f)\n",
        "generate_prompts_with_embeddings(N)\n"
      ],
      "metadata": {
        "id": "9WBWA1-dim2-"
      },
      "execution_count": null,
      "outputs": []
    }
  ]
}