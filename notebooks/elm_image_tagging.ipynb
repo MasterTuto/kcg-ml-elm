{
 "cells": [
  {
   "cell_type": "markdown",
   "metadata": {
    "id": "Zcv2YM4VDcYm"
   },
   "source": [
    "This notebook will run for both cpu and gpu"
   ]
  },
  {
   "cell_type": "code",
   "execution_count": 1,
   "metadata": {
    "colab": {
     "base_uri": "https://localhost:8080/"
    },
    "id": "OpMa0_OAJ-ln",
    "outputId": "97163c50-3788-4932-aaff-f4cc749734e7"
   },
   "outputs": [
    {
     "name": "stdout",
     "output_type": "stream",
     "text": [
      "Cloning into 'kcg-ml-elm'...\n",
      "remote: Enumerating objects: 18, done.\u001b[K\n",
      "remote: Counting objects: 100% (18/18), done.\u001b[K\n",
      "remote: Compressing objects: 100% (16/16), done.\u001b[K\n",
      "remote: Total 18 (delta 3), reused 9 (delta 1), pack-reused 0\u001b[K\n",
      "Unpacking objects: 100% (18/18), 139.03 KiB | 2.14 MiB/s, done.\n",
      "/content/kcg-ml-elm\n"
     ]
    }
   ],
   "source": [
    "!git clone https://github.com/kk-digital/kcg-ml-elm\n",
    "%cd kcg-ml-elm"
   ]
  },
  {
   "cell_type": "markdown",
   "metadata": {
    "id": "Xsdbksn3RMvF"
   },
   "source": []
  },
  {
   "cell_type": "code",
   "execution_count": null,
   "metadata": {
    "id": "RjaxHZQi3062"
   },
   "outputs": [],
   "source": [
    "!pip install -r /content/drive/MyDrive/requirements.txt\n"
   ]
  },
  {
   "cell_type": "code",
   "execution_count": 2,
   "metadata": {
    "id": "TaEnr5tmWD_l"
   },
   "outputs": [],
   "source": [
    "#!pip install -r /content/drive/MyDrive/requirements.txt\n",
    "#!pip install str2bool\n",
    "%%capture\n",
    "%pip install ascii_graph open_clip_torch patool fire"
   ]
  },
  {
   "cell_type": "code",
   "execution_count": 6,
   "metadata": {
    "colab": {
     "base_uri": "https://localhost:8080/"
    },
    "id": "hpcQPoXdVyml",
    "outputId": "c8a85fd0-b383-43e6-8009-d155c82e2433"
   },
   "outputs": [
    {
     "name": "stdout",
     "output_type": "stream",
     "text": [
      "Mounted at /content/drive\n"
     ]
    }
   ],
   "source": [
    "from google.colab import drive\n",
    "drive.mount._DEBUG = False\n",
    "drive.mount('/content/drive', force_remount=True)"
   ]
  },
  {
   "cell_type": "markdown",
   "metadata": {
    "id": "Mdq2A5LkDPVA"
   },
   "source": []
  },
  {
   "cell_type": "code",
   "execution_count": null,
   "metadata": {
    "colab": {
     "base_uri": "https://localhost:8080/",
     "height": 87
    },
    "id": "ZL-Ipl37MgOy",
    "outputId": "2710918f-741d-4695-a2b3-7905d20cb23d"
   },
   "outputs": [
    {
     "name": "stdout",
     "output_type": "stream",
     "text": [
      "CUDA version: 11.7\n",
      "Environment is colab\n",
      "CUDA version: 11.7\n"
     ]
    },
    {
     "data": {
      "application/vnd.google.colaboratory.intrinsic+json": {
       "type": "string"
      },
      "text/plain": [
       "'colab'"
      ]
     },
     "execution_count": 3,
     "metadata": {},
     "output_type": "execute_result"
    }
   ],
   "source": [
    "#Check Environment And Cuda Version \n",
    "from utility.CudaCheckGPU import GetCuda\n",
    "from utility.EnvironmentChecker import GetEnvironment\n",
    "\n",
    "GetCuda()\n",
    "GetEnvironment()"
   ]
  },
  {
   "cell_type": "markdown",
   "metadata": {
    "id": "gmA6os4i_fVj"
   },
   "source": [
    "Installation for clip modules"
   ]
  },
  {
   "cell_type": "code",
   "execution_count": null,
   "metadata": {
    "colab": {
     "base_uri": "https://localhost:8080/",
     "height": 35
    },
    "id": "daL52j3uV_8c",
    "outputId": "3761b9d9-58e3-4181-82fd-30303ca6b703"
   },
   "outputs": [
    {
     "data": {
      "application/vnd.google.colaboratory.intrinsic+json": {
       "type": "string"
      },
      "text/plain": [
       "'/content/drive/MyDrive/downloads/newdataset/pixel-art-tagged-v3/others'"
      ]
     },
     "execution_count": 2,
     "metadata": {},
     "output_type": "execute_result"
    }
   ],
   "source": [
    "import shutil \n",
    "src_folder='/content/drive/MyDrive/downloads/newdataset/others_dataset/others'\n",
    "dst_folder='/content/drive/MyDrive/downloads/newdataset/pixel-art-tagged-v3/others'\n",
    "shutil.copytree(src_folder, dst_folder)"
   ]
  },
  {
   "cell_type": "markdown",
   "metadata": {
    "id": "0SGsYw2s_Xoh"
   },
   "source": [
    "If you want to extract dataset to some specific location otherwise do not run"
   ]
  },
  {
   "cell_type": "code",
   "execution_count": null,
   "metadata": {
    "colab": {
     "base_uri": "https://localhost:8080/",
     "height": 345
    },
    "id": "Ic9P3cwPgsDB",
    "outputId": "8266039a-9436-4161-f725-69bdf5ac4abc"
   },
   "outputs": [
    {
     "ename": "KeyboardInterrupt",
     "evalue": "ignored",
     "output_type": "error",
     "traceback": [
      "\u001b[0;31m---------------------------------------------------------------------------\u001b[0m",
      "\u001b[0;31mKeyboardInterrupt\u001b[0m                         Traceback (most recent call last)",
      "\u001b[0;32m<ipython-input-3-8cbcc50d3218>\u001b[0m in \u001b[0;36m<cell line: 8>\u001b[0;34m()\u001b[0m\n\u001b[1;32m      7\u001b[0m \u001b[0mdataset_path\u001b[0m \u001b[0;34m=\u001b[0m \u001b[0;34m'/content/drive/MyDrive/downloads/newdataset'\u001b[0m\u001b[0;34m\u001b[0m\u001b[0;34m\u001b[0m\u001b[0m\n\u001b[1;32m      8\u001b[0m \u001b[0;32mwith\u001b[0m \u001b[0mZipFile\u001b[0m\u001b[0;34m(\u001b[0m\u001b[0mdownloaded_data_zip\u001b[0m\u001b[0;34m)\u001b[0m \u001b[0;32mas\u001b[0m \u001b[0mzip_object\u001b[0m\u001b[0;34m:\u001b[0m\u001b[0;34m\u001b[0m\u001b[0;34m\u001b[0m\u001b[0m\n\u001b[0;32m----> 9\u001b[0;31m     \u001b[0mzip_object\u001b[0m\u001b[0;34m.\u001b[0m\u001b[0mextractall\u001b[0m\u001b[0;34m(\u001b[0m\u001b[0mdataset_path\u001b[0m\u001b[0;34m)\u001b[0m\u001b[0;34m\u001b[0m\u001b[0;34m\u001b[0m\u001b[0m\n\u001b[0m",
      "\u001b[0;32m/usr/lib/python3.9/zipfile.py\u001b[0m in \u001b[0;36mextractall\u001b[0;34m(self, path, members, pwd)\u001b[0m\n\u001b[1;32m   1640\u001b[0m \u001b[0;34m\u001b[0m\u001b[0m\n\u001b[1;32m   1641\u001b[0m         \u001b[0;32mfor\u001b[0m \u001b[0mzipinfo\u001b[0m \u001b[0;32min\u001b[0m \u001b[0mmembers\u001b[0m\u001b[0;34m:\u001b[0m\u001b[0;34m\u001b[0m\u001b[0;34m\u001b[0m\u001b[0m\n\u001b[0;32m-> 1642\u001b[0;31m             \u001b[0mself\u001b[0m\u001b[0;34m.\u001b[0m\u001b[0m_extract_member\u001b[0m\u001b[0;34m(\u001b[0m\u001b[0mzipinfo\u001b[0m\u001b[0;34m,\u001b[0m \u001b[0mpath\u001b[0m\u001b[0;34m,\u001b[0m \u001b[0mpwd\u001b[0m\u001b[0;34m)\u001b[0m\u001b[0;34m\u001b[0m\u001b[0;34m\u001b[0m\u001b[0m\n\u001b[0m\u001b[1;32m   1643\u001b[0m \u001b[0;34m\u001b[0m\u001b[0m\n\u001b[1;32m   1644\u001b[0m     \u001b[0;34m@\u001b[0m\u001b[0mclassmethod\u001b[0m\u001b[0;34m\u001b[0m\u001b[0;34m\u001b[0m\u001b[0m\n",
      "\u001b[0;32m/usr/lib/python3.9/zipfile.py\u001b[0m in \u001b[0;36m_extract_member\u001b[0;34m(self, member, targetpath, pwd)\u001b[0m\n\u001b[1;32m   1693\u001b[0m             \u001b[0;32mreturn\u001b[0m \u001b[0mtargetpath\u001b[0m\u001b[0;34m\u001b[0m\u001b[0;34m\u001b[0m\u001b[0m\n\u001b[1;32m   1694\u001b[0m \u001b[0;34m\u001b[0m\u001b[0m\n\u001b[0;32m-> 1695\u001b[0;31m         \u001b[0;32mwith\u001b[0m \u001b[0mself\u001b[0m\u001b[0;34m.\u001b[0m\u001b[0mopen\u001b[0m\u001b[0;34m(\u001b[0m\u001b[0mmember\u001b[0m\u001b[0;34m,\u001b[0m \u001b[0mpwd\u001b[0m\u001b[0;34m=\u001b[0m\u001b[0mpwd\u001b[0m\u001b[0;34m)\u001b[0m \u001b[0;32mas\u001b[0m \u001b[0msource\u001b[0m\u001b[0;34m,\u001b[0m\u001b[0;31m \u001b[0m\u001b[0;31m\\\u001b[0m\u001b[0;34m\u001b[0m\u001b[0;34m\u001b[0m\u001b[0m\n\u001b[0m\u001b[1;32m   1696\u001b[0m              \u001b[0mopen\u001b[0m\u001b[0;34m(\u001b[0m\u001b[0mtargetpath\u001b[0m\u001b[0;34m,\u001b[0m \u001b[0;34m\"wb\"\u001b[0m\u001b[0;34m)\u001b[0m \u001b[0;32mas\u001b[0m \u001b[0mtarget\u001b[0m\u001b[0;34m:\u001b[0m\u001b[0;34m\u001b[0m\u001b[0;34m\u001b[0m\u001b[0m\n\u001b[1;32m   1697\u001b[0m             \u001b[0mshutil\u001b[0m\u001b[0;34m.\u001b[0m\u001b[0mcopyfileobj\u001b[0m\u001b[0;34m(\u001b[0m\u001b[0msource\u001b[0m\u001b[0;34m,\u001b[0m \u001b[0mtarget\u001b[0m\u001b[0;34m)\u001b[0m\u001b[0;34m\u001b[0m\u001b[0;34m\u001b[0m\u001b[0m\n",
      "\u001b[0;31mKeyboardInterrupt\u001b[0m: "
     ]
    }
   ],
   "source": [
    "from zipfile import ZipFile\n",
    "import os\n",
    "# Specify location of downloaded data (zip file)\n",
    "#downloaded_data_zip = '/content/drive/MyDrive/downloads/pixel-art-tagged-v3.zip'\n",
    "downloaded_data_zip='/content/drive/MyDrive/downloads/pixel-art-pinterest-030.zip'\n",
    "# Location to extract the zip file to\n",
    "dataset_path = '/content/drive/MyDrive/downloads/newdataset'\n",
    "with ZipFile(downloaded_data_zip) as zip_object:\n",
    "    zip_object.extractall(dataset_path)"
   ]
  },
  {
   "cell_type": "markdown",
   "metadata": {
    "id": "cS50yH32q1JY"
   },
   "source": [
    "Data split into train and test "
   ]
  },
  {
   "cell_type": "code",
   "execution_count": null,
   "metadata": {
    "id": "jRNhjEhghHWy"
   },
   "outputs": [],
   "source": [
    "import sys\n",
    "import shutil \n",
    "sys.path.insert(0,'/content/kcg-ml-elm/notebooks/')\n",
    "sys.path.insert(0, '/content/drive/MyDrive/')\n",
    "from dataset_prepare import PrepareDataset\n",
    "dataset_directory='/content/drive/MyDrive/downloads/newdataset/pixel-art-tagged-v3'\n",
    "target_directory='/content/drive/MyDrive/downloads/split_dataset'\n",
    "\n",
    "#dataset_prep = PrepareDataset(dataset_directory, train_ratio=0.8) #source directory\n",
    "#dataset_prep.split_dataset(target_directory) # target destination"
   ]
  },
  {
   "cell_type": "code",
   "execution_count": null,
   "metadata": {
    "id": "Zs3RtGHeRBRW"
   },
   "outputs": [],
   "source": [
    "!rm -r /content/kcg-ml-elm"
   ]
  },
  {
   "cell_type": "markdown",
   "metadata": {
    "id": "gfM5icFX4Z7J"
   },
   "source": []
  },
  {
   "cell_type": "markdown",
   "metadata": {
    "id": "UDIe6Dwm-fFJ"
   },
   "source": [
    "Here you should import ELM classifier and ImageDatasetProcessor for feature extraction"
   ]
  },
  {
   "cell_type": "code",
   "execution_count": 1,
   "metadata": {
    "id": "jjdAQ-85N8US"
   },
   "outputs": [],
   "source": [
    "import sys\n",
    "sys.path.insert(0, '/content/kcg-ml-elm/notebooks/')\n",
    "from Image_Dataset_Processor import ImageDatasetProcessor\n",
    "import patoolib\n",
    "from elm_model_upd import ELMClassifier\n",
    "from elm_model_upd import TrainAndEvaluate\n",
    "import elm_model_upd\n",
    "import shutil"
   ]
  },
  {
   "cell_type": "markdown",
   "metadata": {
    "id": "QilmET6J951-"
   },
   "source": [
    "Specify the path for your data where clip features will be stored (json files) in output directory"
   ]
  },
  {
   "cell_type": "code",
   "execution_count": 1,
   "metadata": {
    "id": "iWCdLmBbOBcx"
   },
   "outputs": [],
   "source": [
    "# Specify the path to the dataset in dataset_path variable\n",
    "dataset_path='/content/drive/MyDrive/downloads/newdataset/pixel-art-tagged-v3'\n",
    "output_folder = '/content/drive/MyDrive/output'\n",
    "clip_model = 'ViT-L-14'\n"
   ]
  },
  {
   "cell_type": "markdown",
   "metadata": {
    "id": "tLegFyXiAZqs"
   },
   "source": [
    "Clip features will be computed if it is already extracted do not run"
   ]
  },
  {
   "cell_type": "code",
   "execution_count": null,
   "metadata": {
    "colab": {
     "base_uri": "https://localhost:8080/",
     "height": 364,
     "referenced_widgets": [
      "44f6ec8ba29d4028a200add2c7d861a8",
      "9e838ea6c34549bea7d0565997bffc13",
      "83c77697c6734508ba708c454a4a4ab6",
      "9a72f70639914b599bac7cae9f1be0ad",
      "8ba4994e69494bbab69a8c15e5f990b0",
      "a72320649a5148fca31b0d061fcad7ee",
      "192a997ef26147a891c86acbd1315436",
      "b6f58fd9ea834c80bb236b781a81e562",
      "e3132f8a7dc44f998bbc06317a023c76",
      "9892abf87424499aadac967652ae6217",
      "967eb2e81af947438fbc680a832ed6e4"
     ]
    },
    "id": "Xa7ThswSOR_4",
    "outputId": "31ee0d03-2d2e-47dc-bcad-a558d50ffd53"
   },
   "outputs": [
    {
     "data": {
      "application/vnd.jupyter.widget-view+json": {
       "model_id": "44f6ec8ba29d4028a200add2c7d861a8",
       "version_major": 2,
       "version_minor": 0
      },
      "text/plain": [
       "Downloading (…)ip_pytorch_model.bin:   0%|          | 0.00/1.71G [00:00<?, ?B/s]"
      ]
     },
     "metadata": {},
     "output_type": "display_data"
    },
    {
     "name": "stdout",
     "output_type": "stream",
     "text": [
      "[WARNING] problem with /content/drive/MyDrive/downloads/split_dataset/train/other-validation/https___i.pinimg.com_originals_00_92_c4_0092c473456acd2e4819da18ac964760.gif, cannot identify image file '/content/drive/MyDrive/downloads/split_dataset/train/other-validation/https___i.pinimg.com_originals_00_92_c4_0092c473456acd2e4819da18ac964760.gif'\n",
      "[WARNING] file /content/drive/MyDrive/downloads/split_dataset/train/other-validation/https___i.pinimg.com_originals_00_92_c4_0092c473456acd2e4819da18ac964760.gif is not supported and will be ignored\n",
      "Processing...\n"
     ]
    },
    {
     "name": "stderr",
     "output_type": "stream",
     "text": [
      " 16%|█▌        | 32/206 [04:31<29:30, 10.18s/it]"
     ]
    },
    {
     "name": "stdout",
     "output_type": "stream",
     "text": [
      "[INFO] dataset train finished processing 1000 images so far\n"
     ]
    },
    {
     "name": "stderr",
     "output_type": "stream",
     "text": [
      " 31%|███       | 63/206 [09:35<23:24,  9.82s/it]"
     ]
    },
    {
     "name": "stdout",
     "output_type": "stream",
     "text": [
      "[INFO] dataset train finished processing 2000 images so far\n"
     ]
    },
    {
     "name": "stderr",
     "output_type": "stream",
     "text": [
      " 46%|████▌     | 94/206 [14:17<17:30,  9.38s/it]"
     ]
    },
    {
     "name": "stdout",
     "output_type": "stream",
     "text": [
      "[INFO] dataset train finished processing 3000 images so far\n"
     ]
    },
    {
     "name": "stderr",
     "output_type": "stream",
     "text": [
      " 61%|██████    | 126/206 [18:45<12:13,  9.17s/it]"
     ]
    },
    {
     "name": "stdout",
     "output_type": "stream",
     "text": [
      "[INFO] dataset train finished processing 4000 images so far\n"
     ]
    },
    {
     "name": "stderr",
     "output_type": "stream",
     "text": [
      " 76%|███████▌  | 157/206 [23:34<07:37,  9.34s/it]"
     ]
    },
    {
     "name": "stdout",
     "output_type": "stream",
     "text": [
      "[INFO] dataset train finished processing 5000 images so far\n"
     ]
    },
    {
     "name": "stderr",
     "output_type": "stream",
     "text": [
      " 91%|█████████▏| 188/206 [28:18<02:42,  9.05s/it]"
     ]
    },
    {
     "name": "stdout",
     "output_type": "stream",
     "text": [
      "[INFO] dataset train finished processing 6000 images so far\n"
     ]
    },
    {
     "name": "stderr",
     "output_type": "stream",
     "text": [
      "100%|██████████| 206/206 [31:00<00:00,  9.03s/it]\n"
     ]
    },
    {
     "name": "stdout",
     "output_type": "stream",
     "text": [
      "[INFO] Writing to database table in /content/drive/MyDrive/output/train/image_dataset_cache.sqlite\n",
      "[INFO] Finished.\n",
      "Processing...\n"
     ]
    },
    {
     "name": "stderr",
     "output_type": "stream",
     "text": [
      " 63%|██████▎   | 32/51 [03:45<00:43,  2.31s/it]"
     ]
    },
    {
     "name": "stdout",
     "output_type": "stream",
     "text": [
      "[INFO] dataset test finished processing 1000 images so far\n"
     ]
    },
    {
     "name": "stderr",
     "output_type": "stream",
     "text": [
      "100%|██████████| 51/51 [04:28<00:00,  5.26s/it]\n"
     ]
    },
    {
     "name": "stdout",
     "output_type": "stream",
     "text": [
      "[INFO] Writing to database table in /content/drive/MyDrive/output/test/image_dataset_cache.sqlite\n",
      "[INFO] Finished.\n"
     ]
    }
   ],
   "source": [
    "import os\n",
    "for file in os.listdir(target_directory):   #computing train and test features\n",
    "    feature_path=os.path.join(output_folder,file)\n",
    "    if not os.path.exists(feature_path):\n",
    "        os.makedirs(feature_path,exist_ok=True)\n",
    "    ImageDatasetProcessor.process_dataset(os.path.join(target_directory,file),feature_path, clip_model)\n",
    "  #  ImageDatasetProcessor.process_dataset(feature_path, output_folder, clip_model)"
   ]
  },
  {
   "cell_type": "markdown",
   "metadata": {
    "id": "9WczIszXAvBA"
   },
   "source": []
  },
  {
   "cell_type": "markdown",
   "metadata": {
    "id": "XpfGCYqu9KFB"
   },
   "source": []
  },
  {
   "cell_type": "markdown",
   "metadata": {
    "id": "JIlzuWYy9MOs"
   },
   "source": [
    "Running this cell will provide the paths to computed clip features and also setting percentage of data for validation in addition output directory for saving the results and checkpoints\n"
   ]
  },
  {
   "cell_type": "code",
   "execution_count": 2,
   "metadata": {
    "id": "kz3oqXbPcLLA"
   },
   "outputs": [],
   "source": [
    "metadata_json = '/content/drive/MyDrive/output/train/input-metadata.json' \n",
    "tag_to_hash_json = '/content/drive/MyDrive/output/train/input-tag-to-image-hash-list.json'\n",
    "output_dir = '/content/drive/MyDrive/output'\n",
    "n_samples_train=100\n",
    "n_power=10 # e.g 2^n_power will train 8 classifiers of neurons=[2, 4, 8, 16, 32, 64, 128]\n",
    "sparsity=0.000    #l1 regularization\n",
    "num_iterations=100  #for optimizer to converge\n",
    "checkpoint_path='/content/drive/MyDrive/elm_checkpoints'\n",
    "evaluate_on_test=False"
   ]
  },
  {
   "cell_type": "markdown",
   "metadata": {
    "id": "_LD3v1_V0LTA"
   },
   "source": []
  },
  {
   "cell_type": "markdown",
   "metadata": {
    "id": "qczuuhdl32lR"
   },
   "source": [
    "\n"
   ]
  },
  {
   "cell_type": "markdown",
   "metadata": {
    "id": "tQOWuSnL8iYo"
   },
   "source": [
    "Running this cell will train and test simultaneously for different number of neurons\n"
   ]
  },
  {
   "cell_type": "code",
   "execution_count": 3,
   "metadata": {
    "colab": {
     "base_uri": "https://localhost:8080/"
    },
    "id": "Mp7SOFe7OWfR",
    "outputId": "91427627-4ece-4fb6-8b46-096441973335"
   },
   "outputs": [
    {
     "name": "stdout",
     "output_type": "stream",
     "text": [
      "Warning: CUDA not available, using CPU.\n"
     ]
    },
    {
     "name": "stderr",
     "output_type": "stream",
     "text": [
      "/usr/local/lib/python3.9/dist-packages/sklearn/preprocessing/_encoders.py:868: FutureWarning: `sparse` was renamed to `sparse_output` in version 1.2 and will be removed in 1.4. `sparse_output` is ignored unless you leave `sparse` to its default value.\n",
      "  warnings.warn(\n",
      "/usr/local/lib/python3.9/dist-packages/sklearn/preprocessing/_encoders.py:868: FutureWarning: `sparse` was renamed to `sparse_output` in version 1.2 and will be removed in 1.4. `sparse_output` is ignored unless you leave `sparse` to its default value.\n",
      "  warnings.warn(\n",
      "/usr/local/lib/python3.9/dist-packages/sklearn/preprocessing/_encoders.py:868: FutureWarning: `sparse` was renamed to `sparse_output` in version 1.2 and will be removed in 1.4. `sparse_output` is ignored unless you leave `sparse` to its default value.\n",
      "  warnings.warn(\n",
      "/usr/local/lib/python3.9/dist-packages/sklearn/preprocessing/_encoders.py:868: FutureWarning: `sparse` was renamed to `sparse_output` in version 1.2 and will be removed in 1.4. `sparse_output` is ignored unless you leave `sparse` to its default value.\n",
      "  warnings.warn(\n",
      "/usr/local/lib/python3.9/dist-packages/sklearn/preprocessing/_encoders.py:868: FutureWarning: `sparse` was renamed to `sparse_output` in version 1.2 and will be removed in 1.4. `sparse_output` is ignored unless you leave `sparse` to its default value.\n",
      "  warnings.warn(\n",
      "/usr/local/lib/python3.9/dist-packages/sklearn/preprocessing/_encoders.py:868: FutureWarning: `sparse` was renamed to `sparse_output` in version 1.2 and will be removed in 1.4. `sparse_output` is ignored unless you leave `sparse` to its default value.\n",
      "  warnings.warn(\n",
      "/usr/local/lib/python3.9/dist-packages/sklearn/preprocessing/_encoders.py:868: FutureWarning: `sparse` was renamed to `sparse_output` in version 1.2 and will be removed in 1.4. `sparse_output` is ignored unless you leave `sparse` to its default value.\n",
      "  warnings.warn(\n",
      "/usr/local/lib/python3.9/dist-packages/sklearn/preprocessing/_encoders.py:868: FutureWarning: `sparse` was renamed to `sparse_output` in version 1.2 and will be removed in 1.4. `sparse_output` is ignored unless you leave `sparse` to its default value.\n",
      "  warnings.warn(\n",
      "/usr/local/lib/python3.9/dist-packages/sklearn/preprocessing/_encoders.py:868: FutureWarning: `sparse` was renamed to `sparse_output` in version 1.2 and will be removed in 1.4. `sparse_output` is ignored unless you leave `sparse` to its default value.\n",
      "  warnings.warn(\n",
      "/usr/local/lib/python3.9/dist-packages/sklearn/preprocessing/_encoders.py:868: FutureWarning: `sparse` was renamed to `sparse_output` in version 1.2 and will be removed in 1.4. `sparse_output` is ignored unless you leave `sparse` to its default value.\n",
      "  warnings.warn(\n",
      "/usr/local/lib/python3.9/dist-packages/sklearn/preprocessing/_encoders.py:868: FutureWarning: `sparse` was renamed to `sparse_output` in version 1.2 and will be removed in 1.4. `sparse_output` is ignored unless you leave `sparse` to its default value.\n",
      "  warnings.warn(\n",
      "/usr/local/lib/python3.9/dist-packages/sklearn/preprocessing/_encoders.py:868: FutureWarning: `sparse` was renamed to `sparse_output` in version 1.2 and will be removed in 1.4. `sparse_output` is ignored unless you leave `sparse` to its default value.\n",
      "  warnings.warn(\n"
     ]
    },
    {
     "name": "stdout",
     "output_type": "stream",
     "text": [
      "Total training time: 5.52 seconds\n"
     ]
    }
   ],
   "source": [
    "#Run the training and inference_script\n",
    "\n",
    "my_trainer = TrainAndEvaluate(metadata_json, tag_to_hash_json, output_dir,checkpoint_path, \n",
    "                              n_samples_train, n_power, sparsity, num_iterations,evaluate_on_test)\n",
    "\n",
    "\n",
    "my_trainer.train_test_classifier()\n"
   ]
  },
  {
   "cell_type": "markdown",
   "metadata": {
    "id": "ko8ReSjLwpf-"
   },
   "source": [
    "Testing on unseen data by loading checkpoints with different number of neurons with same tag "
   ]
  },
  {
   "cell_type": "code",
   "execution_count": 2,
   "metadata": {
    "colab": {
     "base_uri": "https://localhost:8080/",
     "height": 1000
    },
    "id": "xUpwqMel_5SM",
    "outputId": "68be9477-add2-4b15-9a50-a72d323f6fed"
   },
   "outputs": [
    {
     "name": "stdout",
     "output_type": "stream",
     "text": [
      "Warning: CUDA not available, using CPU.\n",
      "Checkpoint loaded successfully...\n",
      "model predictions started\n",
      "<class 'dict'>\n",
      "/content/drive/MyDrive/output/report/pos-pixel-art-environmental\n",
      "Checkpoint loaded successfully...\n",
      "model predictions started\n",
      "<class 'dict'>\n",
      "/content/drive/MyDrive/output/report/pos-pixel-art-environmental\n",
      "Checkpoint loaded successfully...\n",
      "model predictions started\n",
      "<class 'dict'>\n",
      "/content/drive/MyDrive/output/report/pos-pixel-art-environmental\n",
      "Checkpoint loaded successfully...\n",
      "model predictions started\n",
      "<class 'dict'>\n",
      "/content/drive/MyDrive/output/report/pos-pixel-art-environmental\n",
      "Checkpoint loaded successfully...\n",
      "model predictions started\n",
      "<class 'dict'>\n",
      "/content/drive/MyDrive/output/report/pos-pixel-art-environmental\n",
      "Checkpoint loaded successfully...\n",
      "model predictions started\n",
      "<class 'dict'>\n",
      "/content/drive/MyDrive/output/report/pos-pixel-art-environmental\n",
      "Checkpoint loaded successfully...\n",
      "model predictions started\n",
      "<class 'dict'>\n",
      "/content/drive/MyDrive/output/report/pos-pixel-art-environmental\n",
      "Checkpoint loaded successfully...\n",
      "model predictions started\n",
      "<class 'dict'>\n",
      "/content/drive/MyDrive/output/report/pos-pixel-art-environmental\n",
      "Checkpoint loaded successfully...\n",
      "model predictions started\n",
      "<class 'dict'>\n",
      "/content/drive/MyDrive/output/report/pos-pixel-art-environmental\n"
     ]
    },
    {
     "data": {
      "image/png": "[encoded data removed]",
      "text/plain": [
       "<Figure size 640x480 with 1 Axes>"
      ]
     },
     "metadata": {},
     "output_type": "display_data"
    },
    {
     "data": {
      "text/plain": [
       "<Figure size 640x480 with 0 Axes>"
      ]
     },
     "metadata": {},
     "output_type": "display_data"
    }
   ],
   "source": [
    "import sys\n",
    "import os\n",
    "import glob\n",
    "sys.path.insert(0,'/content/kcg-ml-elm/notebooks/')\n",
    "from elm_only_evaluation import evaluation,select_device\n",
    "compute_features=False  # make it false if not already computed\n",
    "test_directory='/content/drive/MyDrive/downloads/split_dataset/test'        \n",
    "metadata_json = '/content/drive/MyDrive/output/test/input-metadata.json' \n",
    "tag_to_hash_json = '/content/drive/MyDrive/output/test/input-tag-to-image-hash-list.json'\n",
    "output_dir = '/content/drive/MyDrive/output'\n",
    "checkpoints_path='/content/drive/MyDrive/elm_checkpoints' #load your tag models with different neurons\n",
    "tag_to_test='pos-pixel-art-environmental' # name of category you want to test\n",
    "checkpoints_tag=os.path.join(checkpoints_path,tag_to_test) \n",
    "extension = \"*.pth\"\n",
    "checkpoints = glob.glob(checkpoints_tag + \"/\" + extension)\n",
    "device=select_device()    #pick either gpu or cpu\n",
    "tag_predictions_list=[]\n",
    "neurons_list=[]\n",
    "\n",
    "for checkpoint_path in checkpoints:   #iterate through each checkpoint and make predictions on same data\n",
    " \n",
    "    tag_prob,n_neurons,evaluate,folder_plots= evaluation(compute_features,test_directory,metadata_json,tag_to_hash_json,\n",
    "           output_dir,clip_model,tag_to_test,checkpoint_path,device)\n",
    "    \n",
    "    tag_predictions_list.append(tag_prob)\n",
    "    neurons_list.append(n_neurons)    \n",
    "\n",
    "evaluate.scatter_plot(neurons_list,tag_predictions_list,tag_to_test,folder_plots)  #to check probabilites for different neurons predictions\n"
   ]
  },
  {
   "cell_type": "code",
   "execution_count": 3,
   "metadata": {
    "colab": {
     "base_uri": "https://localhost:8080/",
     "height": 507
    },
    "id": "2XndoNhKF8hM",
    "outputId": "15bdf0dd-cc7a-4ebc-ec49-81e765c7c147"
   },
   "outputs": [
    {
     "name": "stdout",
     "output_type": "stream",
     "text": [
      "warning running on cpu, no cuda device is found\n",
      "(500, 280)\n"
     ]
    },
    {
     "data": {
      "image/png": "[encoded data removed]",
      "text/plain": [
       "<Figure size 640x480 with 1 Axes>"
      ]
     },
     "metadata": {},
     "output_type": "display_data"
    }
   ],
   "source": [
    "import matplotlib.pyplot as plt\n",
    "import glob\n",
    "import numpy as np\n",
    "import sys\n",
    "import torch\n",
    "import os\n",
    "sys.path.insert(0,'/content/kcg-ml-elm/notebooks/')\n",
    "from elm_model_upd import process_single_image \n",
    "from elm_model_upd import ELMClassifier\n",
    "\n",
    "# Load input image\n",
    "input_image_path ='/content/drive/MyDrive/downloads/split_dataset/test/not-pixel-art/https___i.pinimg.com_originals_f1_23_f9_f123f9341a5ce902a1f464e980a6ceed.png'\n",
    "# Load checkpoints\n",
    "tag='not-pixel-art'\n",
    "checkpoints_path='/content/drive/MyDrive/elm_checkpoints'\n",
    "checkpoints_tag=os.path.join(checkpoints_path,tag)\n",
    "extension = \"*.pth\"\n",
    "checkpoints = glob.glob(checkpoints_tag + \"/\" + extension)\n",
    "# Initialize lists to store the number of neurons and the predicted probabilities\n",
    "neurons_list = []\n",
    "predictions_list = []\n",
    "colors_list = []\n",
    "clip_model= 'ViT-L-14' \n",
    "i=0\n",
    "# Load image and obtain embeddings\n",
    "test_sample=process_single_image(input_image_path,clip_model)\n",
    "# Loop through each checkpoint\n",
    "\n",
    "\n",
    "# Initialize lists to store the number of neurons and the predicted probabilities\n",
    "neurons_list = []\n",
    "class0_predictions_list = []\n",
    "class1_predictions_list = []\n",
    "\n",
    "# Loop through each checkpoint\n",
    "for checkpoint_path in checkpoints:\n",
    "    # Load model\n",
    "    checkpoint = torch.load(checkpoint_path)\n",
    "    model = ELMClassifier(input_size=checkpoint['input_size'], hidden_size=checkpoint['hidden_size'], \n",
    "                        output_size=checkpoint['output_size'])\n",
    "    \n",
    "    # Extract number of neurons from model name or saved configuration\n",
    "    neurons=checkpoint['hidden_size']    \n",
    "    neurons_list.append(neurons)\n",
    "    \n",
    "    # Make predictions on input data\n",
    "    y_pred = model.forward(test_sample)\n",
    "    \n",
    "    # Extract probability of positive class (class 0) and negative class (class 1)\n",
    "    class0_prob, class1_prob = torch.softmax(y_pred, dim=1).detach().cpu().numpy().squeeze()\n",
    "   # class0_prob = class0_prob + np.random.normal(loc=0, scale=0.05, size=1)\n",
    "    class0_predictions_list.append(class0_prob)\n",
    "   # class1_predictions_list.append(class1_prob)\n",
    "\n",
    "# Create scatter plot\n",
    "plt.scatter(neurons_list, class0_predictions_list, label='Tag:'+tag,alpha=0.1)\n",
    "#plt.scatter(neurons_list, class1_predictions_list, label='Class 1')\n",
    "plt.xlabel('Number of Neurons')\n",
    "plt.ylabel('Predicted Probability')\n",
    "plt.title(tag)\n",
    "# Set y-axis limits\n",
    "plt.ylim(0, 1)\n",
    "plt.legend(list(map(str, neurons_list)),  ncol = 1,loc='center left', bbox_to_anchor=(1, 0.5))\n",
    "plt.show()\n",
    "\n"
   ]
  },
  {
   "cell_type": "markdown",
   "metadata": {
    "id": "k3buZAz8BNiz"
   },
   "source": [
    "if you want to test only then this script will load checkpoint and perform inference please check this file before running to set different arguments such as filepath and checkpoints etc"
   ]
  },
  {
   "cell_type": "code",
   "execution_count": null,
   "metadata": {
    "colab": {
     "base_uri": "https://localhost:8080/"
    },
    "id": "e0uoOAg0BMZx",
    "outputId": "9a1a593f-31eb-464e-c904-66e8c3f0cced"
   },
   "outputs": [
    {
     "name": "stdout",
     "output_type": "stream",
     "text": [
      "[WARNING] problem with /content/drive/MyDrive/downloads/newdataset/split/val/other-validation/https___i.pinimg.com_originals_00_92_c4_0092c473456acd2e4819da18ac964760.gif, cannot identify image file '/content/drive/MyDrive/downloads/newdataset/split/val/other-validation/https___i.pinimg.com_originals_00_92_c4_0092c473456acd2e4819da18ac964760.gif'\n",
      "[WARNING] file /content/drive/MyDrive/downloads/newdataset/split/val/other-validation/https___i.pinimg.com_originals_00_92_c4_0092c473456acd2e4819da18ac964760.gif is not supported and will be ignored\n",
      "[WARNING]: Input dataset contains empty folder: /content/drive/MyDrive/downloads/newdataset/split/val/pos-environmental-natural]\n",
      "[WARNING]: Input dataset contains empty folder: /content/drive/MyDrive/downloads/newdataset/split/val/pos-pixel-art-environmental]\n",
      "[WARNING]: Input dataset contains empty folder: /content/drive/MyDrive/downloads/newdataset/split/val/pos-pixel-art-machine]\n",
      "[WARNING]: Input dataset contains empty folder: /content/drive/MyDrive/downloads/newdataset/split/val/pos-pixel-art-scifi]\n",
      "[WARNING]: Input dataset contains empty folder: /content/drive/MyDrive/downloads/newdataset/split/val/pos-pixel-art-space]\n",
      "[WARNING]: Input dataset contains empty folder: /content/drive/MyDrive/downloads/newdataset/split/val/pos-pixel-art-texture]\n",
      "[WARNING]: Input dataset contains empty folder: /content/drive/MyDrive/downloads/newdataset/split/val/pos-pixel-art-tutorial]\n",
      "[WARNING]: Input dataset contains empty folder: /content/drive/MyDrive/downloads/newdataset/split/val/pos-scifi]\n",
      "[WARNING]: Input dataset contains empty folder: /content/drive/MyDrive/downloads/newdataset/split/val/pos-sprite-sheet]\n",
      "[WARNING]: Input dataset contains empty folder: /content/drive/MyDrive/downloads/newdataset/split/val/pos-style-anime]\n",
      "[WARNING]: Input dataset contains empty folder: /content/drive/MyDrive/downloads/newdataset/split/val/pos-style-comic]\n",
      "[WARNING]: Input dataset contains empty folder: /content/drive/MyDrive/downloads/newdataset/split/val/pos-style-synth-wave]\n",
      "[WARNING]: Input dataset contains empty folder: /content/drive/MyDrive/downloads/newdataset/split/val/pos-style-tile-based]\n",
      "[WARNING]: Input dataset contains empty folder: /content/drive/MyDrive/downloads/newdataset/split/val/pos-video-game]\n",
      "[WARNING]: Input dataset contains empty folder: /content/drive/MyDrive/downloads/newdataset/split/val/pos-video-game-3d]\n",
      "[WARNING]: Input dataset contains empty folder: /content/drive/MyDrive/downloads/newdataset/split/val/pos-video-game-flat]\n",
      "[WARNING]: Input dataset contains empty folder: /content/drive/MyDrive/downloads/newdataset/split/val/pos-video-game-isometric]\n",
      "[WARNING]: Input dataset contains empty folder: /content/drive/MyDrive/downloads/newdataset/split/val/pos-video-game-map]\n",
      "[WARNING]: Input dataset contains empty folder: /content/drive/MyDrive/downloads/newdataset/split/val/pos-video-game-side-scrolling]\n",
      "[WARNING]: Input dataset contains empty folder: /content/drive/MyDrive/downloads/newdataset/split/val/pos-video-game-style-miltech-kag]\n",
      "[WARNING]: Input dataset contains empty folder: /content/drive/MyDrive/downloads/newdataset/split/val/pos-video-game-top-down]\n",
      "[WARNING]: Input dataset contains empty folder: /content/drive/MyDrive/downloads/newdataset/split/val/pos-video-game-top-perspective]\n",
      "[WARNING]: Input dataset contains empty folder: /content/drive/MyDrive/downloads/newdataset/split/val/pos-waifus]\n",
      "[WARNING]: Input dataset contains empty folder: /content/drive/MyDrive/downloads/newdataset/split/val/video-game-menu]\n",
      "Processing...\n",
      " 54% 7/13 [14:02<12:08, 121.44s/it][WARNING]: image /content/drive/MyDrive/downloads/newdataset/split/val/other-validation/https___i.pinimg.com_originals_00_92_c4_0092c473456acd2e4819da18ac964760.gif was be skipped due to the error cannot identify image file '/content/drive/MyDrive/downloads/newdataset/split/val/other-validation/https___i.pinimg.com_originals_00_92_c4_0092c473456acd2e4819da18ac964760.gif'\n",
      "100% 13/13 [25:33<00:00, 117.99s/it]\n",
      "[INFO] Writing to database table in /content/drive/MyDrive/output_check/dataset_cache.sqlite\n",
      "[INFO] Finished.\n",
      "CUDA not available, using CPU.\n",
      "726\n",
      "726\n",
      "not-pixel-art-digital\n",
      "yr tensor([[0., 1.],\n",
      "        [0., 1.],\n",
      "        [0., 1.],\n",
      "        ...,\n",
      "        [0., 1.],\n",
      "        [0., 1.],\n",
      "        [0., 1.]], grad_fn=<SoftmaxBackward0>)\n",
      "[1 1 1 1 1 1 1 1 1 1 1 1 1 1 1 1 1 1 1 1 1 1 1 1 1 1 1 1 1 1 1 1 1 1 1 1 1\n",
      " 1 1 1 1 1 1 1 1 1 1 1 1 1 1 1 1 1 1 1 1 1 1 1 1 1 1 1 1 1 1 1 1 1 1 1 1 1\n",
      " 1 1 1 1 1 1 1 1 1 1 1 1 1 1 1 1 1 1 1 1 1 1 1 1 1 1 1 1 1 1 1 1 1 1 1 1 1\n",
      " 1 1 1 1 1 1 1 1 1 1 1 1 1 1 1 1 1 1 1 1 1 1 1 1 1 1 1 1 1 1 1 0 1 1 1 1 1\n",
      " 1 1 1 1 1 1 1 1 1 1 1 1 1 1 1 1 1 1 1 1 1 1 1 1 1 1 1 1 0 1 1 1 1 1 1 1 1\n",
      " 1 1 1 1 1 1 1 1 1 1 1 1 1 1 1 1 1 1 1 1 1 1 1 1 1 1 1 1 1 1 1 1 1 1 1 1 1\n",
      " 1 1 1 1 1 1 1 1 1 1 1 1 1 1 1 1 1 1 1 1 1 1 1 1 1 1 1 1 1 1 1 1 1 1 1 1 1\n",
      " 1 1 1 1 1 1 1 1 1 1 0 1 1 1 1 1 1 1 1 1 1 1 0 1 1 1 1 1 1 1 1 1 0 1 1 1 1\n",
      " 1 1 1 1 1 1 1 1 1 1 1 1 1 1 1 1 1 1 1 1 1 1 1 1 1 1 1 1 1 1 1 1 1 1 1 1 1\n",
      " 1 1 1 1 1 1 1 0 1 1 1 1 1 1 1 1 1 1 1 1 1 1 1 1 1 1 1 1 1 1 1 1 1 1 1 1 1\n",
      " 1 1 1 1 1 1 1 1 1 1 1 1 1 1 1 1 1 1 1 1 1 1 1 1 1 1 1 1 1 1 1 1 1 1 1 1 1\n",
      " 1 1 1 1 1 1 1 1 1 1 1 1 1 1 1 1 1 1 1 1 1 1 1 1 1 1 1 1 1 1 1 1 1 1 1 1 1\n",
      " 1 1 1 1 1 1 1 1 1 1 1 1 1 1 1 1 1 1 1 1 1 1 1 0 1 1 1 1 1 1 1 1 1 1 1 1 1\n",
      " 1 1 1 1 1 1 0 1 1 1 1 1 1 1 1 1 1 1 1 1 1 1 1 1 1 1 0 1 1 1 1 1 1 1 1 1 1\n",
      " 1 1 1 1 1 1 1 1 1 1 1 1 0 1 1 1 1 1 1 1 1 1 1 1 1 1 1 1 1 1 1 1 0 1 1 1 1\n",
      " 1 1 1 1 1 1 1 1 1 1 1 1 1 1 1 1 1 1 1 1 1 0 1 1 0 0 1 1 1 1 1 1 1 1 1 1 1\n",
      " 1 1 1 1 1 1 1 1 1 1 1 1 1 1 1 1 1 1 1 1 1 1 1 1 1 1 1 1 1 1 1 1 1 1 1 1 1\n",
      " 1 1 1 1 1 1 1 0 1 1 1 1 1 1 1 1 1 1 1 1 1 1 1 1 1 1 1 1 1 1 1 1 1 1 1 1 1\n",
      " 1 1 1 1 1 1 1 1 1 1 1 1 0 1 1 1 1 1 1 1 1 1 1 1 1 1 1 1 1 1 1 1 1 1 1 0 1\n",
      " 1 1 1 1 0 1 1 1 1 1 1 1 1 1 1 1 1 1 1 1 1 1 1]\n",
      "actual_labels tensor([0., 0., 0., 0., 0., 0., 0., 0., 0., 0., 0., 0., 0., 0., 0., 0., 0., 0.,\n",
      "        0., 0., 0., 0., 0., 0., 0., 0., 0., 0., 0., 0., 0., 0., 0., 0., 0., 0.,\n",
      "        0., 0., 0., 0., 0., 0., 0., 0., 0., 0., 0., 0., 0., 0., 0., 0., 0., 0.,\n",
      "        0., 0., 0., 0., 0., 0., 0., 0., 0., 0., 0., 0., 0., 0., 0., 0., 0., 0.,\n",
      "        0., 0., 0., 0., 0., 0., 0., 0., 0., 0., 0., 0., 0., 0., 0., 0., 0., 0.,\n",
      "        0., 0., 0., 0., 0., 0., 0., 0., 0., 0., 0., 0., 0., 0., 0., 0., 0., 0.,\n",
      "        0., 0., 0., 0., 0., 0., 0., 0., 0., 0., 0., 0., 0., 0., 0., 0., 0., 0.,\n",
      "        0., 0., 0., 0., 0., 0., 0., 0., 0., 0., 0., 0., 0., 0., 0., 0., 0., 0.,\n",
      "        0., 0., 0., 0., 0., 0., 0., 0., 0., 0., 0., 0., 0., 0., 0., 0., 0., 0.,\n",
      "        0., 0., 0., 0., 0., 0., 0., 0., 0., 0., 0., 0., 0., 0., 0., 0., 0., 0.,\n",
      "        0., 0., 0., 0., 0., 0., 0., 0., 0., 0., 0., 0., 0., 0., 0., 0., 0., 0.,\n",
      "        0., 0., 0., 0., 0., 0., 0., 0., 0., 0., 0., 0., 0., 0., 0., 0., 0., 0.,\n",
      "        0., 0., 0., 0., 0., 0., 0., 0., 0., 0., 0., 0., 0., 0., 0., 0., 0., 0.,\n",
      "        0., 0., 0., 0., 0., 0., 0., 0., 0., 0., 0., 0., 0., 0., 0., 0., 0., 0.,\n",
      "        0., 0., 0., 0., 0., 0., 0., 0., 0., 0., 0., 0., 0., 0., 0., 0., 0., 0.,\n",
      "        0., 0., 0., 0., 0., 0., 0., 0., 0., 0., 0., 0., 0., 0., 0., 0., 0., 0.,\n",
      "        0., 0., 0., 0., 0., 0., 0., 0., 0., 0., 0., 0., 0., 0., 0., 0., 0., 0.,\n",
      "        0., 0., 0., 0., 0., 0., 0., 0., 0., 0., 0., 0., 0., 0., 0., 0., 0., 0.,\n",
      "        0., 0., 0., 0., 0., 0., 0., 0., 0., 0., 0., 0., 0., 0., 0., 0., 0., 0.,\n",
      "        0., 0., 0., 0., 0., 0., 0., 0., 0., 0., 0., 0., 0., 0., 0., 0., 0., 0.,\n",
      "        0., 0., 0., 0., 0., 0., 0., 0., 0., 0., 0., 0., 0., 0., 0., 0., 0., 0.,\n",
      "        0., 0., 0., 0., 0., 0., 0., 0., 0., 0., 0., 0., 0., 0., 0., 0., 0., 0.,\n",
      "        0., 0., 0., 0., 0., 0., 0., 0., 0., 0., 0., 0., 0., 0., 0., 0., 0., 0.,\n",
      "        0., 0., 0., 0., 0., 0., 0., 0., 0., 0., 0., 0., 0., 0., 0., 0., 0., 0.,\n",
      "        0., 0., 0., 0., 0., 0., 0., 0., 0., 0., 0., 0., 0., 0., 0., 0., 0., 0.,\n",
      "        0., 0., 0., 0., 0., 0., 0., 0., 0., 0., 0., 0., 0., 0., 0., 0., 0., 0.,\n",
      "        0., 0., 0., 0., 0., 0., 0., 0., 0., 0., 0., 0., 0., 0., 0., 0., 1., 1.,\n",
      "        1., 1., 1., 1., 1., 1., 1., 1., 1., 1., 1., 1., 1., 1., 1., 1., 1., 1.,\n",
      "        1., 1., 1., 1., 1., 1., 1., 1., 1., 1., 1., 1., 1., 1., 1., 1., 1., 1.,\n",
      "        1., 1., 1., 1., 1., 1., 1., 1., 1., 1., 1., 1., 1., 1., 1., 1., 1., 1.,\n",
      "        1., 1., 1., 1., 1., 1., 1., 1., 1., 1., 1., 1., 1., 1., 1., 1., 1., 1.,\n",
      "        1., 1., 1., 1., 1., 1., 1., 1., 1., 1., 1., 1., 1., 1., 1., 1., 1., 1.,\n",
      "        1., 1., 1., 1., 1., 1., 1., 1., 1., 1., 1., 1., 1., 1., 1., 1., 1., 1.,\n",
      "        1., 1., 1., 1., 1., 1., 1., 1., 1., 1., 1., 1., 1., 1., 1., 1., 1., 1.,\n",
      "        1., 1., 1., 1., 1., 1., 1., 1., 1., 1., 1., 1., 1., 1., 1., 1., 1., 1.,\n",
      "        1., 1., 1., 1., 1., 1., 1., 1., 1., 1., 1., 1., 1., 1., 1., 1., 1., 1.,\n",
      "        1., 1., 1., 1., 1., 1., 1., 1., 1., 1., 1., 1., 1., 1., 1., 1., 1., 1.,\n",
      "        1., 1., 1., 1., 1., 1., 1., 1., 1., 1., 1., 1., 1., 1., 1., 1., 1., 1.,\n",
      "        1., 1., 1., 1., 1., 1., 1., 1., 1., 1., 1., 1., 1., 1., 1., 1., 1., 1.,\n",
      "        1., 1., 1., 1., 1., 1., 1., 1., 1., 1., 1., 1., 1., 1., 1., 1., 1., 1.,\n",
      "        1., 1., 1., 1., 1., 1.])\n",
      "Accuracy: 0.3278236914600551\n",
      "<class 'dict'>\n",
      "<class 'dict'>\n",
      "Figure(640x480)\n"
     ]
    }
   ],
   "source": [
    "!python /content/drive/MyDrive/only_inference.py"
   ]
  },
  {
   "cell_type": "code",
   "execution_count": null,
   "metadata": {
    "id": "0s4mM_MM_1Lc"
   },
   "outputs": [],
   "source": []
  },
  {
   "cell_type": "markdown",
   "metadata": {
    "id": "BKx84J3verGN"
   },
   "source": []
  }
 ],
 "metadata": {
  "accelerator": "GPU",
  "colab": {
   "provenance": []
  },
  "gpuClass": "standard",
  "kernelspec": {
   "display_name": "Python 3",
   "language": "python",
   "name": "python3"
  },
  "language_info": {
   "codemirror_mode": {
    "name": "ipython",
    "version": 3
   },
   "file_extension": ".py",
   "mimetype": "text/x-python",
   "name": "python",
   "nbconvert_exporter": "python",
   "pygments_lexer": "ipython3",
   "version": "3.8.3"
  },
  "widgets": {
   "application/vnd.jupyter.widget-state+json": {
    "192a997ef26147a891c86acbd1315436": {
     "model_module": "@jupyter-widgets/controls",
     "model_module_version": "1.5.0",
     "model_name": "DescriptionStyleModel",
     "state": {
      "_model_module": "@jupyter-widgets/controls",
      "_model_module_version": "1.5.0",
      "_model_name": "DescriptionStyleModel",
      "_view_count": null,
      "_view_module": "@jupyter-widgets/base",
      "_view_module_version": "1.2.0",
      "_view_name": "StyleView",
      "description_width": ""
     }
    },
    "44f6ec8ba29d4028a200add2c7d861a8": {
     "model_module": "@jupyter-widgets/controls",
     "model_module_version": "1.5.0",
     "model_name": "HBoxModel",
     "state": {
      "_dom_classes": [],
      "_model_module": "@jupyter-widgets/controls",
      "_model_module_version": "1.5.0",
      "_model_name": "HBoxModel",
      "_view_count": null,
      "_view_module": "@jupyter-widgets/controls",
      "_view_module_version": "1.5.0",
      "_view_name": "HBoxView",
      "box_style": "",
      "children": [
       "IPY_MODEL_9e838ea6c34549bea7d0565997bffc13",
       "IPY_MODEL_83c77697c6734508ba708c454a4a4ab6",
       "IPY_MODEL_9a72f70639914b599bac7cae9f1be0ad"
      ],
      "layout": "IPY_MODEL_8ba4994e69494bbab69a8c15e5f990b0"
     }
    },
    "83c77697c6734508ba708c454a4a4ab6": {
     "model_module": "@jupyter-widgets/controls",
     "model_module_version": "1.5.0",
     "model_name": "FloatProgressModel",
     "state": {
      "_dom_classes": [],
      "_model_module": "@jupyter-widgets/controls",
      "_model_module_version": "1.5.0",
      "_model_name": "FloatProgressModel",
      "_view_count": null,
      "_view_module": "@jupyter-widgets/controls",
      "_view_module_version": "1.5.0",
      "_view_name": "ProgressView",
      "bar_style": "success",
      "description": "",
      "description_tooltip": null,
      "layout": "IPY_MODEL_b6f58fd9ea834c80bb236b781a81e562",
      "max": 1710631365,
      "min": 0,
      "orientation": "horizontal",
      "style": "IPY_MODEL_e3132f8a7dc44f998bbc06317a023c76",
      "value": 1710631365
     }
    },
    "8ba4994e69494bbab69a8c15e5f990b0": {
     "model_module": "@jupyter-widgets/base",
     "model_module_version": "1.2.0",
     "model_name": "LayoutModel",
     "state": {
      "_model_module": "@jupyter-widgets/base",
      "_model_module_version": "1.2.0",
      "_model_name": "LayoutModel",
      "_view_count": null,
      "_view_module": "@jupyter-widgets/base",
      "_view_module_version": "1.2.0",
      "_view_name": "LayoutView",
      "align_content": null,
      "align_items": null,
      "align_self": null,
      "border": null,
      "bottom": null,
      "display": null,
      "flex": null,
      "flex_flow": null,
      "grid_area": null,
      "grid_auto_columns": null,
      "grid_auto_flow": null,
      "grid_auto_rows": null,
      "grid_column": null,
      "grid_gap": null,
      "grid_row": null,
      "grid_template_areas": null,
      "grid_template_columns": null,
      "grid_template_rows": null,
      "height": null,
      "justify_content": null,
      "justify_items": null,
      "left": null,
      "margin": null,
      "max_height": null,
      "max_width": null,
      "min_height": null,
      "min_width": null,
      "object_fit": null,
      "object_position": null,
      "order": null,
      "overflow": null,
      "overflow_x": null,
      "overflow_y": null,
      "padding": null,
      "right": null,
      "top": null,
      "visibility": null,
      "width": null
     }
    },
    "967eb2e81af947438fbc680a832ed6e4": {
     "model_module": "@jupyter-widgets/controls",
     "model_module_version": "1.5.0",
     "model_name": "DescriptionStyleModel",
     "state": {
      "_model_module": "@jupyter-widgets/controls",
      "_model_module_version": "1.5.0",
      "_model_name": "DescriptionStyleModel",
      "_view_count": null,
      "_view_module": "@jupyter-widgets/base",
      "_view_module_version": "1.2.0",
      "_view_name": "StyleView",
      "description_width": ""
     }
    },
    "9892abf87424499aadac967652ae6217": {
     "model_module": "@jupyter-widgets/base",
     "model_module_version": "1.2.0",
     "model_name": "LayoutModel",
     "state": {
      "_model_module": "@jupyter-widgets/base",
      "_model_module_version": "1.2.0",
      "_model_name": "LayoutModel",
      "_view_count": null,
      "_view_module": "@jupyter-widgets/base",
      "_view_module_version": "1.2.0",
      "_view_name": "LayoutView",
      "align_content": null,
      "align_items": null,
      "align_self": null,
      "border": null,
      "bottom": null,
      "display": null,
      "flex": null,
      "flex_flow": null,
      "grid_area": null,
      "grid_auto_columns": null,
      "grid_auto_flow": null,
      "grid_auto_rows": null,
      "grid_column": null,
      "grid_gap": null,
      "grid_row": null,
      "grid_template_areas": null,
      "grid_template_columns": null,
      "grid_template_rows": null,
      "height": null,
      "justify_content": null,
      "justify_items": null,
      "left": null,
      "margin": null,
      "max_height": null,
      "max_width": null,
      "min_height": null,
      "min_width": null,
      "object_fit": null,
      "object_position": null,
      "order": null,
      "overflow": null,
      "overflow_x": null,
      "overflow_y": null,
      "padding": null,
      "right": null,
      "top": null,
      "visibility": null,
      "width": null
     }
    },
    "9a72f70639914b599bac7cae9f1be0ad": {
     "model_module": "@jupyter-widgets/controls",
     "model_module_version": "1.5.0",
     "model_name": "HTMLModel",
     "state": {
      "_dom_classes": [],
      "_model_module": "@jupyter-widgets/controls",
      "_model_module_version": "1.5.0",
      "_model_name": "HTMLModel",
      "_view_count": null,
      "_view_module": "@jupyter-widgets/controls",
      "_view_module_version": "1.5.0",
      "_view_name": "HTMLView",
      "description": "",
      "description_tooltip": null,
      "layout": "IPY_MODEL_9892abf87424499aadac967652ae6217",
      "placeholder": "​",
      "style": "IPY_MODEL_967eb2e81af947438fbc680a832ed6e4",
      "value": " 1.71G/1.71G [00:06&lt;00:00, 243MB/s]"
     }
    },
    "9e838ea6c34549bea7d0565997bffc13": {
     "model_module": "@jupyter-widgets/controls",
     "model_module_version": "1.5.0",
     "model_name": "HTMLModel",
     "state": {
      "_dom_classes": [],
      "_model_module": "@jupyter-widgets/controls",
      "_model_module_version": "1.5.0",
      "_model_name": "HTMLModel",
      "_view_count": null,
      "_view_module": "@jupyter-widgets/controls",
      "_view_module_version": "1.5.0",
      "_view_name": "HTMLView",
      "description": "",
      "description_tooltip": null,
      "layout": "IPY_MODEL_a72320649a5148fca31b0d061fcad7ee",
      "placeholder": "​",
      "style": "IPY_MODEL_192a997ef26147a891c86acbd1315436",
      "value": "Downloading (…)ip_pytorch_model.bin: 100%"
     }
    },
    "a72320649a5148fca31b0d061fcad7ee": {
     "model_module": "@jupyter-widgets/base",
     "model_module_version": "1.2.0",
     "model_name": "LayoutModel",
     "state": {
      "_model_module": "@jupyter-widgets/base",
      "_model_module_version": "1.2.0",
      "_model_name": "LayoutModel",
      "_view_count": null,
      "_view_module": "@jupyter-widgets/base",
      "_view_module_version": "1.2.0",
      "_view_name": "LayoutView",
      "align_content": null,
      "align_items": null,
      "align_self": null,
      "border": null,
      "bottom": null,
      "display": null,
      "flex": null,
      "flex_flow": null,
      "grid_area": null,
      "grid_auto_columns": null,
      "grid_auto_flow": null,
      "grid_auto_rows": null,
      "grid_column": null,
      "grid_gap": null,
      "grid_row": null,
      "grid_template_areas": null,
      "grid_template_columns": null,
      "grid_template_rows": null,
      "height": null,
      "justify_content": null,
      "justify_items": null,
      "left": null,
      "margin": null,
      "max_height": null,
      "max_width": null,
      "min_height": null,
      "min_width": null,
      "object_fit": null,
      "object_position": null,
      "order": null,
      "overflow": null,
      "overflow_x": null,
      "overflow_y": null,
      "padding": null,
      "right": null,
      "top": null,
      "visibility": null,
      "width": null
     }
    },
    "b6f58fd9ea834c80bb236b781a81e562": {
     "model_module": "@jupyter-widgets/base",
     "model_module_version": "1.2.0",
     "model_name": "LayoutModel",
     "state": {
      "_model_module": "@jupyter-widgets/base",
      "_model_module_version": "1.2.0",
      "_model_name": "LayoutModel",
      "_view_count": null,
      "_view_module": "@jupyter-widgets/base",
      "_view_module_version": "1.2.0",
      "_view_name": "LayoutView",
      "align_content": null,
      "align_items": null,
      "align_self": null,
      "border": null,
      "bottom": null,
      "display": null,
      "flex": null,
      "flex_flow": null,
      "grid_area": null,
      "grid_auto_columns": null,
      "grid_auto_flow": null,
      "grid_auto_rows": null,
      "grid_column": null,
      "grid_gap": null,
      "grid_row": null,
      "grid_template_areas": null,
      "grid_template_columns": null,
      "grid_template_rows": null,
      "height": null,
      "justify_content": null,
      "justify_items": null,
      "left": null,
      "margin": null,
      "max_height": null,
      "max_width": null,
      "min_height": null,
      "min_width": null,
      "object_fit": null,
      "object_position": null,
      "order": null,
      "overflow": null,
      "overflow_x": null,
      "overflow_y": null,
      "padding": null,
      "right": null,
      "top": null,
      "visibility": null,
      "width": null
     }
    },
    "e3132f8a7dc44f998bbc06317a023c76": {
     "model_module": "@jupyter-widgets/controls",
     "model_module_version": "1.5.0",
     "model_name": "ProgressStyleModel",
     "state": {
      "_model_module": "@jupyter-widgets/controls",
      "_model_module_version": "1.5.0",
      "_model_name": "ProgressStyleModel",
      "_view_count": null,
      "_view_module": "@jupyter-widgets/base",
      "_view_module_version": "1.2.0",
      "_view_name": "StyleView",
      "bar_color": null,
      "description_width": ""
     }
    }
   }
  }
 },
 "nbformat": 4,
 "nbformat_minor": 1
}
