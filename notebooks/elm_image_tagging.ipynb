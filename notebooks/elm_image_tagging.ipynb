{
  "cells": [
    {
      "cell_type": "markdown",
      "metadata": {
        "id": "Zcv2YM4VDcYm"
      },
      "source": [
        "This notebook will run for both cpu and gpu"
      ]
    },
    {
      "cell_type": "code",
      "execution_count": 1,
      "metadata": {
        "colab": {
          "base_uri": "https://localhost:8080/"
        },
        "id": "OpMa0_OAJ-ln",
        "outputId": "afebaa5f-1111-44d8-bffd-8c00224f9c6a"
      },
      "outputs": [
        {
          "name": "stdout",
          "output_type": "stream",
          "text": [
            "Cloning into 'kcg-ml'...\n",
            "remote: Enumerating objects: 3055, done.\u001b[K\n",
            "remote: Counting objects: 100% (1047/1047), done.\u001b[K\n",
            "remote: Compressing objects: 100% (419/419), done.\u001b[K\n",
            "remote: Total 3055 (delta 665), reused 953 (delta 623), pack-reused 2008\u001b[K\n",
            "Receiving objects: 100% (3055/3055), 26.62 MiB | 34.42 MiB/s, done.\n",
            "Resolving deltas: 100% (1812/1812), done.\n",
            "/content/kcg-ml\n"
          ]
        }
      ],
      "source": [
        "!git clone https://github.com/kk-digital/kcg-ml\n",
        "%cd kcg-ml"
      ]
    },
    {
      "cell_type": "code",
      "execution_count": null,
      "metadata": {
        "colab": {
          "base_uri": "https://localhost:8080/"
        },
        "id": "TRqtNRELm95m",
        "outputId": "b777f5ed-b72b-4884-d456-12eb0aae3151"
      },
      "outputs": [
        {
          "name": "stdout",
          "output_type": "stream",
          "text": [
            "/content/kcg-ml\n"
          ]
        }
      ],
      "source": [
        "%cd /content/kcg-ml/"
      ]
    },
    {
      "cell_type": "code",
      "execution_count": null,
      "metadata": {
        "colab": {
          "base_uri": "https://localhost:8080/"
        },
        "id": "TaEnr5tmWD_l",
        "outputId": "b3fbacfb-21b4-4b2a-a1cc-b9cb30580aaa"
      },
      "outputs": [
        {
          "name": "stdout",
          "output_type": "stream",
          "text": [
            "Looking in indexes: https://pypi.org/simple, https://us-python.pkg.dev/colab-wheels/public/simple/\n",
            "Requirement already satisfied: ascii-graph==1.5.1 in /usr/local/lib/python3.9/dist-packages (from -r /content/drive/MyDrive/requirements.txt (line 1)) (1.5.1)\n",
            "Requirement already satisfied: asttokens==2.1.0 in /usr/local/lib/python3.9/dist-packages (from -r /content/drive/MyDrive/requirements.txt (line 2)) (2.1.0)\n",
            "Requirement already satisfied: backcall==0.2.0 in /usr/local/lib/python3.9/dist-packages (from -r /content/drive/MyDrive/requirements.txt (line 3)) (0.2.0)\n",
            "Requirement already satisfied: charset-normalizer in /usr/local/lib/python3.9/dist-packages (from -r /content/drive/MyDrive/requirements.txt (line 4)) (2.1.1)\n",
            "Requirement already satisfied: colorama==0.4.6 in /usr/local/lib/python3.9/dist-packages (from -r /content/drive/MyDrive/requirements.txt (line 5)) (0.4.6)\n",
            "Requirement already satisfied: contourpy==1.0.6 in /usr/local/lib/python3.9/dist-packages (from -r /content/drive/MyDrive/requirements.txt (line 6)) (1.0.6)\n",
            "Requirement already satisfied: cycler==0.11.0 in /usr/local/lib/python3.9/dist-packages (from -r /content/drive/MyDrive/requirements.txt (line 7)) (0.11.0)\n",
            "Requirement already satisfied: debugpy==1.6.3 in /usr/local/lib/python3.9/dist-packages (from -r /content/drive/MyDrive/requirements.txt (line 8)) (1.6.3)\n",
            "Collecting decorator==4.3.0\n",
            "  Using cached decorator-4.3.0-py2.py3-none-any.whl (9.2 kB)\n",
            "Requirement already satisfied: entrypoints==0.4 in /usr/local/lib/python3.9/dist-packages (from -r /content/drive/MyDrive/requirements.txt (line 10)) (0.4)\n",
            "Requirement already satisfied: executing==1.2.0 in /usr/local/lib/python3.9/dist-packages (from -r /content/drive/MyDrive/requirements.txt (line 11)) (1.2.0)\n",
            "Requirement already satisfied: fire==0.4.0 in /usr/local/lib/python3.9/dist-packages (from -r /content/drive/MyDrive/requirements.txt (line 12)) (0.4.0)\n",
            "Requirement already satisfied: fonttools==4.38.0 in /usr/local/lib/python3.9/dist-packages (from -r /content/drive/MyDrive/requirements.txt (line 13)) (4.38.0)\n",
            "Requirement already satisfied: ftfy==6.1.1 in /usr/local/lib/python3.9/dist-packages (from -r /content/drive/MyDrive/requirements.txt (line 14)) (6.1.1)\n",
            "Collecting huggingface-hub==0.11.1\n",
            "  Using cached huggingface_hub-0.11.1-py3-none-any.whl (182 kB)\n",
            "Requirement already satisfied: idna==3.4 in /usr/local/lib/python3.9/dist-packages (from -r /content/drive/MyDrive/requirements.txt (line 16)) (3.4)\n",
            "Collecting ipykernel==6.4.2\n",
            "  Using cached ipykernel-6.4.2-py3-none-any.whl (124 kB)\n",
            "Collecting ipython==7.30.1\n",
            "  Using cached ipython-7.30.1-py3-none-any.whl (791 kB)\n",
            "Requirement already satisfied: jedi==0.18.2 in /usr/local/lib/python3.9/dist-packages (from -r /content/drive/MyDrive/requirements.txt (line 19)) (0.18.2)\n",
            "Requirement already satisfied: joblib==1.2.0 in /usr/local/lib/python3.9/dist-packages (from -r /content/drive/MyDrive/requirements.txt (line 20)) (1.2.0)\n",
            "Collecting jupyter-client==6.1.12\n",
            "  Using cached jupyter_client-6.1.12-py3-none-any.whl (112 kB)\n",
            "Collecting jupyter-core==4.7.1\n",
            "  Using cached jupyter_core-4.7.1-py3-none-any.whl (82 kB)\n",
            "Collecting kiwisolver==1.4.2\n",
            "  Using cached kiwisolver-1.4.2-cp39-cp39-manylinux_2_12_x86_64.manylinux2010_x86_64.whl (1.6 MB)\n",
            "Collecting matplotlib==3.5.1\n",
            "  Using cached matplotlib-3.5.1-cp39-cp39-manylinux_2_5_x86_64.manylinux1_x86_64.whl (11.2 MB)\n",
            "Collecting matplotlib-inline==0.1.3\n",
            "  Using cached matplotlib_inline-0.1.3-py3-none-any.whl (8.2 kB)\n",
            "Collecting nest-asyncio==1.5.1\n",
            "  Using cached nest_asyncio-1.5.1-py3-none-any.whl (5.0 kB)\n",
            "Collecting numpy==1.21.5\n",
            "  Using cached numpy-1.21.5-cp39-cp39-manylinux_2_12_x86_64.manylinux2010_x86_64.whl (15.7 MB)\n",
            "Requirement already satisfied: open-clip-torch==2.4.1 in /usr/local/lib/python3.9/dist-packages (from -r /content/drive/MyDrive/requirements.txt (line 28)) (2.4.1)\n",
            "Requirement already satisfied: packaging==21.3 in /usr/local/lib/python3.9/dist-packages (from -r /content/drive/MyDrive/requirements.txt (line 29)) (21.3)\n",
            "Collecting parso==0.8.2\n",
            "  Using cached parso-0.8.2-py2.py3-none-any.whl (94 kB)\n",
            "Requirement already satisfied: patool==1.12 in /usr/local/lib/python3.9/dist-packages (from -r /content/drive/MyDrive/requirements.txt (line 31)) (1.12)\n",
            "Requirement already satisfied: pickleshare==0.7.5 in /usr/local/lib/python3.9/dist-packages (from -r /content/drive/MyDrive/requirements.txt (line 32)) (0.7.5)\n",
            "Collecting Pillow==8.4.0\n",
            "  Using cached Pillow-8.4.0-cp39-cp39-manylinux_2_17_x86_64.manylinux2014_x86_64.whl (3.1 MB)\n",
            "Requirement already satisfied: prompt-toolkit==3.0.33 in /usr/local/lib/python3.9/dist-packages (from -r /content/drive/MyDrive/requirements.txt (line 34)) (3.0.33)\n",
            "Collecting psutil==5.8.0\n",
            "  Using cached psutil-5.8.0-cp39-cp39-manylinux2010_x86_64.whl (293 kB)\n",
            "Requirement already satisfied: pure-eval==0.2.2 in /usr/local/lib/python3.9/dist-packages (from -r /content/drive/MyDrive/requirements.txt (line 36)) (0.2.2)\n",
            "Collecting Pygments==2.10.0\n",
            "  Using cached Pygments-2.10.0-py3-none-any.whl (1.0 MB)\n",
            "Collecting pyparsing==3.0.6\n",
            "  Using cached pyparsing-3.0.6-py3-none-any.whl (97 kB)\n",
            "Requirement already satisfied: python-dateutil==2.8.2 in /usr/local/lib/python3.9/dist-packages (from -r /content/drive/MyDrive/requirements.txt (line 39)) (2.8.2)\n",
            "Requirement already satisfied: python-fire==0.1.0 in /usr/local/lib/python3.9/dist-packages (from -r /content/drive/MyDrive/requirements.txt (line 40)) (0.1.0)\n",
            "Requirement already satisfied: PyYAML==6.0 in /usr/local/lib/python3.9/dist-packages (from -r /content/drive/MyDrive/requirements.txt (line 41)) (6.0)\n",
            "Collecting pyzmq==22.3.0\n",
            "  Using cached pyzmq-22.3.0-cp39-cp39-manylinux_2_12_x86_64.manylinux2010_x86_64.whl (1.1 MB)\n",
            "Requirement already satisfied: regex in /usr/local/lib/python3.9/dist-packages (from -r /content/drive/MyDrive/requirements.txt (line 43)) (2022.10.31)\n",
            "Collecting requests==2.26.0\n",
            "  Using cached requests-2.26.0-py2.py3-none-any.whl (62 kB)\n",
            "Collecting scikit-learn==1.0.1\n",
            "  Using cached scikit_learn-1.0.1-cp39-cp39-manylinux_2_12_x86_64.manylinux2010_x86_64.whl (24.7 MB)\n",
            "Collecting scipy==1.7.3\n",
            "  Using cached scipy-1.7.3-cp39-cp39-manylinux_2_17_x86_64.manylinux2014_x86_64.whl (39.8 MB)\n",
            "Requirement already satisfied: six==1.16.0 in /usr/local/lib/python3.9/dist-packages (from -r /content/drive/MyDrive/requirements.txt (line 47)) (1.16.0)\n",
            "Requirement already satisfied: stack-data==0.6.1 in /usr/local/lib/python3.9/dist-packages (from -r /content/drive/MyDrive/requirements.txt (line 48)) (0.6.1)\n",
            "Collecting termcolor==1.1.0\n",
            "  Using cached termcolor-1.1.0.tar.gz (3.9 kB)\n",
            "  Preparing metadata (setup.py) ... \u001b[?25l\u001b[?25hdone\n",
            "Requirement already satisfied: threadpoolctl==3.1.0 in /usr/local/lib/python3.9/dist-packages (from -r /content/drive/MyDrive/requirements.txt (line 50)) (3.1.0)\n",
            "Collecting torch==1.9.1\n",
            "  Using cached torch-1.9.1-cp39-cp39-manylinux1_x86_64.whl (831.4 MB)\n",
            "Collecting torchvision==0.10.1\n",
            "  Using cached torchvision-0.10.1-cp39-cp39-manylinux1_x86_64.whl (22.1 MB)\n",
            "Collecting tornado==6.1\n",
            "  Using cached tornado-6.1-cp39-cp39-manylinux2010_x86_64.whl (427 kB)\n",
            "Collecting tqdm==4.62.3\n",
            "  Using cached tqdm-4.62.3-py2.py3-none-any.whl (76 kB)\n",
            "Collecting traitlets==5.1.1\n",
            "  Using cached traitlets-5.1.1-py3-none-any.whl (102 kB)\n",
            "Collecting typing-extensions==3.10.0.2\n",
            "  Using cached typing_extensions-3.10.0.2-py3-none-any.whl (26 kB)\n",
            "Collecting urllib3==1.26.7\n",
            "  Using cached urllib3-1.26.7-py2.py3-none-any.whl (138 kB)\n",
            "Requirement already satisfied: wcwidth==0.2.5 in /usr/local/lib/python3.9/dist-packages (from -r /content/drive/MyDrive/requirements.txt (line 58)) (0.2.5)\n",
            "Requirement already satisfied: wincertstore==0.2 in /usr/local/lib/python3.9/dist-packages (from -r /content/drive/MyDrive/requirements.txt (line 59)) (0.2)\n",
            "Requirement already satisfied: filelock in /usr/local/lib/python3.9/dist-packages (from huggingface-hub==0.11.1->-r /content/drive/MyDrive/requirements.txt (line 15)) (3.12.0)\n",
            "Requirement already satisfied: ipython-genutils in /usr/local/lib/python3.9/dist-packages (from ipykernel==6.4.2->-r /content/drive/MyDrive/requirements.txt (line 17)) (0.2.0)\n",
            "Requirement already satisfied: pexpect>4.3 in /usr/local/lib/python3.9/dist-packages (from ipython==7.30.1->-r /content/drive/MyDrive/requirements.txt (line 18)) (4.8.0)\n",
            "Requirement already satisfied: setuptools>=18.5 in /usr/local/lib/python3.9/dist-packages (from ipython==7.30.1->-r /content/drive/MyDrive/requirements.txt (line 18)) (67.6.1)\n",
            "Requirement already satisfied: certifi>=2017.4.17 in /usr/local/lib/python3.9/dist-packages (from requests==2.26.0->-r /content/drive/MyDrive/requirements.txt (line 44)) (2022.12.7)\n",
            "Collecting charset-normalizer\n",
            "  Downloading charset_normalizer-2.0.12-py3-none-any.whl (39 kB)\n",
            "Requirement already satisfied: ptyprocess>=0.5 in /usr/local/lib/python3.9/dist-packages (from pexpect>4.3->ipython==7.30.1->-r /content/drive/MyDrive/requirements.txt (line 18)) (0.7.0)\n",
            "Building wheels for collected packages: termcolor\n",
            "  Building wheel for termcolor (setup.py) ... \u001b[?25l\u001b[?25hdone\n",
            "  Created wheel for termcolor: filename=termcolor-1.1.0-py3-none-any.whl size=4845 sha256=a6e663fcfa24ebfce8169f276fe76eb6f421ead062d0b00c1e69c6fa28effadc\n",
            "  Stored in directory: /root/.cache/pip/wheels/b6/0d/90/0d1bbd99855f99cb2f6c2e5ff96f8023fad8ec367695f7d72d\n",
            "Successfully built termcolor\n",
            "Installing collected packages: typing-extensions, termcolor, decorator, urllib3, traitlets, tqdm, tornado, torch, pyzmq, pyparsing, Pygments, psutil, Pillow, parso, numpy, nest-asyncio, kiwisolver, charset-normalizer, torchvision, scipy, requests, matplotlib-inline, jupyter-core, scikit-learn, matplotlib, jupyter-client, ipython, huggingface-hub, ipykernel\n",
            "  Attempting uninstall: typing-extensions\n",
            "    Found existing installation: typing_extensions 4.4.0\n",
            "    Uninstalling typing_extensions-4.4.0:\n",
            "      Successfully uninstalled typing_extensions-4.4.0\n",
            "  Attempting uninstall: termcolor\n",
            "    Found existing installation: termcolor 2.1.1\n",
            "    Uninstalling termcolor-2.1.1:\n",
            "      Successfully uninstalled termcolor-2.1.1\n",
            "  Attempting uninstall: decorator\n",
            "    Found existing installation: decorator 4.0.2\n",
            "    Uninstalling decorator-4.0.2:\n",
            "      Successfully uninstalled decorator-4.0.2\n",
            "  Attempting uninstall: urllib3\n",
            "    Found existing installation: urllib3 1.26.12\n",
            "    Uninstalling urllib3-1.26.12:\n",
            "      Successfully uninstalled urllib3-1.26.12\n",
            "  Attempting uninstall: traitlets\n",
            "    Found existing installation: traitlets 5.5.0\n",
            "    Uninstalling traitlets-5.5.0:\n",
            "      Successfully uninstalled traitlets-5.5.0\n",
            "  Attempting uninstall: tqdm\n",
            "    Found existing installation: tqdm 4.64.1\n",
            "    Uninstalling tqdm-4.64.1:\n",
            "      Successfully uninstalled tqdm-4.64.1\n",
            "  Attempting uninstall: tornado\n",
            "    Found existing installation: tornado 6.2\n",
            "    Uninstalling tornado-6.2:\n",
            "      Successfully uninstalled tornado-6.2\n",
            "  Attempting uninstall: torch\n",
            "    Found existing installation: torch 1.9.0\n",
            "    Uninstalling torch-1.9.0:\n",
            "      Successfully uninstalled torch-1.9.0\n",
            "  Attempting uninstall: pyzmq\n",
            "    Found existing installation: pyzmq 24.0.1\n",
            "    Uninstalling pyzmq-24.0.1:\n",
            "      Successfully uninstalled pyzmq-24.0.1\n",
            "  Attempting uninstall: pyparsing\n",
            "    Found existing installation: pyparsing 3.0.9\n",
            "    Uninstalling pyparsing-3.0.9:\n",
            "      Successfully uninstalled pyparsing-3.0.9\n",
            "  Attempting uninstall: Pygments\n",
            "    Found existing installation: Pygments 2.13.0\n",
            "    Uninstalling Pygments-2.13.0:\n",
            "      Successfully uninstalled Pygments-2.13.0\n",
            "  Attempting uninstall: psutil\n",
            "    Found existing installation: psutil 5.9.4\n",
            "    Uninstalling psutil-5.9.4:\n",
            "      Successfully uninstalled psutil-5.9.4\n",
            "  Attempting uninstall: Pillow\n",
            "    Found existing installation: Pillow 8.3.2\n",
            "    Uninstalling Pillow-8.3.2:\n",
            "      Successfully uninstalled Pillow-8.3.2\n",
            "  Attempting uninstall: parso\n",
            "    Found existing installation: parso 0.8.3\n",
            "    Uninstalling parso-0.8.3:\n",
            "      Successfully uninstalled parso-0.8.3\n",
            "  Attempting uninstall: numpy\n",
            "    Found existing installation: numpy 1.22.4\n",
            "    Uninstalling numpy-1.22.4:\n",
            "      Successfully uninstalled numpy-1.22.4\n",
            "  Attempting uninstall: nest-asyncio\n",
            "    Found existing installation: nest-asyncio 1.5.6\n",
            "    Uninstalling nest-asyncio-1.5.6:\n",
            "      Successfully uninstalled nest-asyncio-1.5.6\n",
            "  Attempting uninstall: kiwisolver\n",
            "    Found existing installation: kiwisolver 1.4.4\n",
            "    Uninstalling kiwisolver-1.4.4:\n",
            "      Successfully uninstalled kiwisolver-1.4.4\n",
            "  Attempting uninstall: charset-normalizer\n",
            "    Found existing installation: charset-normalizer 2.1.1\n",
            "    Uninstalling charset-normalizer-2.1.1:\n",
            "      Successfully uninstalled charset-normalizer-2.1.1\n",
            "  Attempting uninstall: torchvision\n",
            "    Found existing installation: torchvision 0.10.0\n",
            "    Uninstalling torchvision-0.10.0:\n",
            "      Successfully uninstalled torchvision-0.10.0\n",
            "  Attempting uninstall: scipy\n",
            "    Found existing installation: scipy 1.8.0\n",
            "    Uninstalling scipy-1.8.0:\n",
            "      Successfully uninstalled scipy-1.8.0\n",
            "  Attempting uninstall: requests\n",
            "    Found existing installation: requests 2.28.1\n",
            "    Uninstalling requests-2.28.1:\n",
            "      Successfully uninstalled requests-2.28.1\n",
            "  Attempting uninstall: matplotlib-inline\n",
            "    Found existing installation: matplotlib-inline 0.1.6\n",
            "    Uninstalling matplotlib-inline-0.1.6:\n",
            "      Successfully uninstalled matplotlib-inline-0.1.6\n",
            "  Attempting uninstall: jupyter-core\n",
            "    Found existing installation: jupyter_core 4.12.0\n",
            "    Uninstalling jupyter_core-4.12.0:\n",
            "      Successfully uninstalled jupyter_core-4.12.0\n",
            "  Attempting uninstall: scikit-learn\n",
            "    Found existing installation: scikit-learn 1.0.2\n",
            "    Uninstalling scikit-learn-1.0.2:\n",
            "      Successfully uninstalled scikit-learn-1.0.2\n",
            "  Attempting uninstall: matplotlib\n",
            "    Found existing installation: matplotlib 3.5.3\n",
            "    Uninstalling matplotlib-3.5.3:\n",
            "      Successfully uninstalled matplotlib-3.5.3\n",
            "  Attempting uninstall: jupyter-client\n",
            "    Found existing installation: jupyter_client 7.4.7\n",
            "    Uninstalling jupyter_client-7.4.7:\n",
            "      Successfully uninstalled jupyter_client-7.4.7\n",
            "  Attempting uninstall: ipython\n",
            "    Found existing installation: ipython 7.34.0\n",
            "    Uninstalling ipython-7.34.0:\n",
            "      Successfully uninstalled ipython-7.34.0\n",
            "  Attempting uninstall: huggingface-hub\n",
            "    Found existing installation: huggingface-hub 0.10.1\n",
            "    Uninstalling huggingface-hub-0.10.1:\n",
            "      Successfully uninstalled huggingface-hub-0.10.1\n",
            "  Attempting uninstall: ipykernel\n",
            "    Found existing installation: ipykernel 5.5.6\n",
            "    Uninstalling ipykernel-5.5.6:\n",
            "      Successfully uninstalled ipykernel-5.5.6\n",
            "\u001b[31mERROR: pip's dependency resolver does not currently take into account all the packages that are installed. This behaviour is the source of the following dependency conflicts.\n",
            "tweepy 4.13.0 requires requests<3,>=2.27.0, but you have requests 2.26.0 which is incompatible.\n",
            "torchtext 0.15.1 requires torch==2.0.0, but you have torch 1.9.1 which is incompatible.\n",
            "torchdata 0.6.0 requires torch==2.0.0, but you have torch 1.9.1 which is incompatible.\n",
            "torchaudio 2.0.1+cu118 requires torch==2.0.0, but you have torch 1.9.1 which is incompatible.\n",
            "tensorflow 2.12.0 requires numpy<1.24,>=1.22, but you have numpy 1.21.5 which is incompatible.\n",
            "sqlalchemy 2.0.9 requires typing-extensions>=4.2.0, but you have typing-extensions 3.10.0.2 which is incompatible.\n",
            "rich 13.3.4 requires pygments<3.0.0,>=2.13.0, but you have pygments 2.10.0 which is incompatible.\n",
            "pydantic 1.10.7 requires typing-extensions>=4.2.0, but you have typing-extensions 3.10.0.2 which is incompatible.\n",
            "polars 0.17.3 requires typing_extensions>=4.0.1; python_version < \"3.11\", but you have typing-extensions 3.10.0.2 which is incompatible.\n",
            "nbclient 0.7.3 requires jupyter-core!=5.0.*,>=4.12, but you have jupyter-core 4.7.1 which is incompatible.\n",
            "nbclient 0.7.3 requires traitlets>=5.3, but you have traitlets 5.1.1 which is incompatible.\n",
            "librosa 0.10.0.post2 requires typing-extensions>=4.1.1, but you have typing-extensions 3.10.0.2 which is incompatible.\n",
            "jupyter-server 1.24.0 requires jupyter-core!=5.0.*,>=4.12, but you have jupyter-core 4.7.1 which is incompatible.\n",
            "imbalanced-learn 0.10.1 requires scikit-learn>=1.0.2, but you have scikit-learn 1.0.1 which is incompatible.\n",
            "google-colab 1.0.0 requires ipykernel~=5.5.6, but you have ipykernel 6.4.2 which is incompatible.\n",
            "google-colab 1.0.0 requires ipython~=7.34.0, but you have ipython 7.30.1 which is incompatible.\n",
            "google-colab 1.0.0 requires requests>=2.27.0, but you have requests 2.26.0 which is incompatible.\n",
            "google-colab 1.0.0 requires tornado~=6.2, but you have tornado 6.1 which is incompatible.\n",
            "flax 0.6.8 requires typing-extensions>=4.1.1, but you have typing-extensions 3.10.0.2 which is incompatible.\n",
            "chex 0.1.7 requires typing-extensions>=4.2.0; python_version < \"3.11\", but you have typing-extensions 3.10.0.2 which is incompatible.\n",
            "arviz 0.15.1 requires scipy>=1.8.0, but you have scipy 1.7.3 which is incompatible.\n",
            "arviz 0.15.1 requires typing-extensions>=4.1.0, but you have typing-extensions 3.10.0.2 which is incompatible.\u001b[0m\u001b[31m\n",
            "\u001b[0mSuccessfully installed Pillow-8.4.0 Pygments-2.10.0 charset-normalizer-2.0.12 decorator-4.3.0 huggingface-hub-0.11.1 ipykernel-6.4.2 ipython-7.30.1 jupyter-client-6.1.12 jupyter-core-4.7.1 kiwisolver-1.4.2 matplotlib-3.5.1 matplotlib-inline-0.1.3 nest-asyncio-1.5.1 numpy-1.21.5 parso-0.8.2 psutil-5.8.0 pyparsing-3.0.6 pyzmq-22.3.0 requests-2.26.0 scikit-learn-1.0.1 scipy-1.7.3 termcolor-1.1.0 torch-1.9.1 torchvision-0.10.1 tornado-6.1 tqdm-4.62.3 traitlets-5.1.1 typing-extensions-3.10.0.2 urllib3-1.26.7\n"
          ]
        }
      ],
      "source": [
        "!pip install -r /content/drive/MyDrive/requirements.txt\n",
        "!pip install str2bool\n",
        "%%capture\n",
        "%pip install ascii_graph open_clip_torch patool fire"
      ]
    },
    {
      "cell_type": "code",
      "execution_count": null,
      "metadata": {
        "colab": {
          "base_uri": "https://localhost:8080/"
        },
        "id": "hpcQPoXdVyml",
        "outputId": "fe80de0d-0d14-4ee3-b3fb-a66bfc28c46d"
      },
      "outputs": [
        {
          "name": "stdout",
          "output_type": "stream",
          "text": [
            "Mounted at /content/drive\n"
          ]
        }
      ],
      "source": [
        "from google.colab import drive\n",
        "drive.mount._DEBUG = False\n",
        "drive.mount('/content/drive', force_remount=True)"
      ]
    },
    {
      "cell_type": "markdown",
      "metadata": {
        "id": "Mdq2A5LkDPVA"
      },
      "source": []
    },
    {
      "cell_type": "code",
      "execution_count": null,
      "metadata": {
        "colab": {
          "base_uri": "https://localhost:8080/",
          "height": 87
        },
        "id": "ZL-Ipl37MgOy",
        "outputId": "2710918f-741d-4695-a2b3-7905d20cb23d"
      },
      "outputs": [
        {
          "name": "stdout",
          "output_type": "stream",
          "text": [
            "CUDA version: 11.7\n",
            "Environment is colab\n",
            "CUDA version: 11.7\n"
          ]
        },
        {
          "data": {
            "application/vnd.google.colaboratory.intrinsic+json": {
              "type": "string"
            },
            "text/plain": [
              "'colab'"
            ]
          },
          "execution_count": 3,
          "metadata": {},
          "output_type": "execute_result"
        }
      ],
      "source": [
        "#Check Environment And Cuda Version \n",
        "from utility.CheckCuda import GetCuda\n",
        "from utility.envchecker import GetEnvironment\n",
        "\n",
        "GetCuda()\n",
        "GetEnvironment()"
      ]
    },
    {
      "cell_type": "markdown",
      "metadata": {
        "id": "gmA6os4i_fVj"
      },
      "source": [
        "Installation for clip modules"
      ]
    },
    {
      "cell_type": "code",
      "execution_count": null,
      "metadata": {
        "colab": {
          "base_uri": "https://localhost:8080/",
          "height": 35
        },
        "id": "daL52j3uV_8c",
        "outputId": "3761b9d9-58e3-4181-82fd-30303ca6b703"
      },
      "outputs": [
        {
          "data": {
            "application/vnd.google.colaboratory.intrinsic+json": {
              "type": "string"
            },
            "text/plain": [
              "'/content/drive/MyDrive/downloads/newdataset/pixel-art-tagged-v3/others'"
            ]
          },
          "execution_count": 2,
          "metadata": {},
          "output_type": "execute_result"
        }
      ],
      "source": [
        "import shutil \n",
        "src_folder='/content/drive/MyDrive/downloads/newdataset/others_dataset/others'\n",
        "dst_folder='/content/drive/MyDrive/downloads/newdataset/pixel-art-tagged-v3/others'\n",
        "shutil.copytree(src_folder, dst_folder)"
      ]
    },
    {
      "cell_type": "markdown",
      "metadata": {
        "id": "0SGsYw2s_Xoh"
      },
      "source": [
        "If you want to extract dataset to some specific location otherwise do not run"
      ]
    },
    {
      "cell_type": "code",
      "execution_count": null,
      "metadata": {
        "colab": {
          "base_uri": "https://localhost:8080/",
          "height": 345
        },
        "id": "Ic9P3cwPgsDB",
        "outputId": "8266039a-9436-4161-f725-69bdf5ac4abc"
      },
      "outputs": [
        {
          "ename": "KeyboardInterrupt",
          "evalue": "ignored",
          "output_type": "error",
          "traceback": [
            "\u001b[0;31m---------------------------------------------------------------------------\u001b[0m",
            "\u001b[0;31mKeyboardInterrupt\u001b[0m                         Traceback (most recent call last)",
            "\u001b[0;32m<ipython-input-3-8cbcc50d3218>\u001b[0m in \u001b[0;36m<cell line: 8>\u001b[0;34m()\u001b[0m\n\u001b[1;32m      7\u001b[0m \u001b[0mdataset_path\u001b[0m \u001b[0;34m=\u001b[0m \u001b[0;34m'/content/drive/MyDrive/downloads/newdataset'\u001b[0m\u001b[0;34m\u001b[0m\u001b[0;34m\u001b[0m\u001b[0m\n\u001b[1;32m      8\u001b[0m \u001b[0;32mwith\u001b[0m \u001b[0mZipFile\u001b[0m\u001b[0;34m(\u001b[0m\u001b[0mdownloaded_data_zip\u001b[0m\u001b[0;34m)\u001b[0m \u001b[0;32mas\u001b[0m \u001b[0mzip_object\u001b[0m\u001b[0;34m:\u001b[0m\u001b[0;34m\u001b[0m\u001b[0;34m\u001b[0m\u001b[0m\n\u001b[0;32m----> 9\u001b[0;31m     \u001b[0mzip_object\u001b[0m\u001b[0;34m.\u001b[0m\u001b[0mextractall\u001b[0m\u001b[0;34m(\u001b[0m\u001b[0mdataset_path\u001b[0m\u001b[0;34m)\u001b[0m\u001b[0;34m\u001b[0m\u001b[0;34m\u001b[0m\u001b[0m\n\u001b[0m",
            "\u001b[0;32m/usr/lib/python3.9/zipfile.py\u001b[0m in \u001b[0;36mextractall\u001b[0;34m(self, path, members, pwd)\u001b[0m\n\u001b[1;32m   1640\u001b[0m \u001b[0;34m\u001b[0m\u001b[0m\n\u001b[1;32m   1641\u001b[0m         \u001b[0;32mfor\u001b[0m \u001b[0mzipinfo\u001b[0m \u001b[0;32min\u001b[0m \u001b[0mmembers\u001b[0m\u001b[0;34m:\u001b[0m\u001b[0;34m\u001b[0m\u001b[0;34m\u001b[0m\u001b[0m\n\u001b[0;32m-> 1642\u001b[0;31m             \u001b[0mself\u001b[0m\u001b[0;34m.\u001b[0m\u001b[0m_extract_member\u001b[0m\u001b[0;34m(\u001b[0m\u001b[0mzipinfo\u001b[0m\u001b[0;34m,\u001b[0m \u001b[0mpath\u001b[0m\u001b[0;34m,\u001b[0m \u001b[0mpwd\u001b[0m\u001b[0;34m)\u001b[0m\u001b[0;34m\u001b[0m\u001b[0;34m\u001b[0m\u001b[0m\n\u001b[0m\u001b[1;32m   1643\u001b[0m \u001b[0;34m\u001b[0m\u001b[0m\n\u001b[1;32m   1644\u001b[0m     \u001b[0;34m@\u001b[0m\u001b[0mclassmethod\u001b[0m\u001b[0;34m\u001b[0m\u001b[0;34m\u001b[0m\u001b[0m\n",
            "\u001b[0;32m/usr/lib/python3.9/zipfile.py\u001b[0m in \u001b[0;36m_extract_member\u001b[0;34m(self, member, targetpath, pwd)\u001b[0m\n\u001b[1;32m   1693\u001b[0m             \u001b[0;32mreturn\u001b[0m \u001b[0mtargetpath\u001b[0m\u001b[0;34m\u001b[0m\u001b[0;34m\u001b[0m\u001b[0m\n\u001b[1;32m   1694\u001b[0m \u001b[0;34m\u001b[0m\u001b[0m\n\u001b[0;32m-> 1695\u001b[0;31m         \u001b[0;32mwith\u001b[0m \u001b[0mself\u001b[0m\u001b[0;34m.\u001b[0m\u001b[0mopen\u001b[0m\u001b[0;34m(\u001b[0m\u001b[0mmember\u001b[0m\u001b[0;34m,\u001b[0m \u001b[0mpwd\u001b[0m\u001b[0;34m=\u001b[0m\u001b[0mpwd\u001b[0m\u001b[0;34m)\u001b[0m \u001b[0;32mas\u001b[0m \u001b[0msource\u001b[0m\u001b[0;34m,\u001b[0m\u001b[0;31m \u001b[0m\u001b[0;31m\\\u001b[0m\u001b[0;34m\u001b[0m\u001b[0;34m\u001b[0m\u001b[0m\n\u001b[0m\u001b[1;32m   1696\u001b[0m              \u001b[0mopen\u001b[0m\u001b[0;34m(\u001b[0m\u001b[0mtargetpath\u001b[0m\u001b[0;34m,\u001b[0m \u001b[0;34m\"wb\"\u001b[0m\u001b[0;34m)\u001b[0m \u001b[0;32mas\u001b[0m \u001b[0mtarget\u001b[0m\u001b[0;34m:\u001b[0m\u001b[0;34m\u001b[0m\u001b[0;34m\u001b[0m\u001b[0m\n\u001b[1;32m   1697\u001b[0m             \u001b[0mshutil\u001b[0m\u001b[0;34m.\u001b[0m\u001b[0mcopyfileobj\u001b[0m\u001b[0;34m(\u001b[0m\u001b[0msource\u001b[0m\u001b[0;34m,\u001b[0m \u001b[0mtarget\u001b[0m\u001b[0;34m)\u001b[0m\u001b[0;34m\u001b[0m\u001b[0;34m\u001b[0m\u001b[0m\n",
            "\u001b[0;31mKeyboardInterrupt\u001b[0m: "
          ]
        }
      ],
      "source": [
        "from zipfile import ZipFile\n",
        "import os\n",
        "# Specify location of downloaded data (zip file)\n",
        "#downloaded_data_zip = '/content/drive/MyDrive/downloads/pixel-art-tagged-v3.zip'\n",
        "downloaded_data_zip='/content/drive/MyDrive/downloads/pixel-art-pinterest-030.zip'\n",
        "# Location to extract the zip file to\n",
        "dataset_path = '/content/drive/MyDrive/downloads/newdataset'\n",
        "with ZipFile(downloaded_data_zip) as zip_object:\n",
        "    zip_object.extractall(dataset_path)"
      ]
    },
    {
      "cell_type": "markdown",
      "metadata": {
        "id": "cS50yH32q1JY"
      },
      "source": [
        "Data split into train and test "
      ]
    },
    {
      "cell_type": "code",
      "execution_count": 1,
      "metadata": {
        "id": "jRNhjEhghHWy"
      },
      "outputs": [],
      "source": [
        "import sys\n",
        "import shutil \n",
        "#shutil.rmtree('/content/drive/MyDrive/downloads/split_dataset')\n",
        "sys.path.insert(0, '/content/drive/MyDrive/')\n",
        "from dataset_prepare import PrepareDataset\n",
        "dataset_directory='/content/drive/MyDrive/downloads/newdataset/pixel-art-tagged-v3'\n",
        "target_directory='/content/drive/MyDrive/downloads/split_dataset'\n",
        "\n",
        "dataset_prep = PrepareDataset(dataset_directory, train_ratio=0.8) #source directory\n",
        "dataset_prep.split_dataset(target_directory) # target destination"
      ]
    },
    {
      "cell_type": "markdown",
      "metadata": {
        "id": "gfM5icFX4Z7J"
      },
      "source": []
    },
    {
      "cell_type": "markdown",
      "metadata": {
        "id": "UDIe6Dwm-fFJ"
      },
      "source": [
        "Here you should import ELM classifier and ImageDatasetProcessor for feature extraction"
      ]
    },
    {
      "cell_type": "code",
      "execution_count": 3,
      "metadata": {
        "id": "jjdAQ-85N8US"
      },
      "outputs": [],
      "source": [
        "import sys\n",
        "sys.path.insert(0, '/content/kcg-ml/image_classifier_pipeline/data_loader/')\n",
        "#sys.path.insert(0, '/content/kcg-ml/image_classifier_pipeline/train/')\n",
        "sys.path.insert(0,'/content/drive/MyDrive/')\n",
        "from Image_Dataset_Processor import ImageDatasetProcessor\n",
        "import patoolib\n",
        "from elm_model_upd import ELMClassifier\n",
        "from elm_model_upd import TrainAndEvaluate\n",
        "import elm_model_upd\n",
        "import shutil"
      ]
    },
    {
      "cell_type": "markdown",
      "metadata": {
        "id": "QilmET6J951-"
      },
      "source": [
        "Specify the path for your data where clip features will be stored (json files) in output directory"
      ]
    },
    {
      "cell_type": "code",
      "execution_count": 4,
      "metadata": {
        "id": "iWCdLmBbOBcx"
      },
      "outputs": [],
      "source": [
        "# Specify the path to the dataset in dataset_path variable\n",
        "dataset_path='/content/drive/MyDrive/downloads/newdataset/pixel-art-tagged-v3'\n",
        "output_folder = '/content/drive/MyDrive/output'\n",
        "clip_model = 'ViT-L-14'\n"
      ]
    },
    {
      "cell_type": "markdown",
      "metadata": {
        "id": "tLegFyXiAZqs"
      },
      "source": [
        "Clip features will be computed if it is already extracted do not run"
      ]
    },
    {
      "cell_type": "code",
      "execution_count": null,
      "metadata": {
        "colab": {
          "base_uri": "https://localhost:8080/",
          "height": 312,
          "referenced_widgets": [
            "44f6ec8ba29d4028a200add2c7d861a8",
            "9e838ea6c34549bea7d0565997bffc13",
            "83c77697c6734508ba708c454a4a4ab6",
            "9a72f70639914b599bac7cae9f1be0ad",
            "8ba4994e69494bbab69a8c15e5f990b0",
            "a72320649a5148fca31b0d061fcad7ee",
            "192a997ef26147a891c86acbd1315436",
            "b6f58fd9ea834c80bb236b781a81e562",
            "e3132f8a7dc44f998bbc06317a023c76",
            "9892abf87424499aadac967652ae6217",
            "967eb2e81af947438fbc680a832ed6e4"
          ]
        },
        "id": "Xa7ThswSOR_4",
        "outputId": "31ee0d03-2d2e-47dc-bcad-a558d50ffd53"
      },
      "outputs": [
        {
          "data": {
            "application/vnd.jupyter.widget-view+json": {
              "model_id": "44f6ec8ba29d4028a200add2c7d861a8",
              "version_major": 2,
              "version_minor": 0
            },
            "text/plain": [
              "Downloading (…)ip_pytorch_model.bin:   0%|          | 0.00/1.71G [00:00<?, ?B/s]"
            ]
          },
          "metadata": {},
          "output_type": "display_data"
        },
        {
          "name": "stdout",
          "output_type": "stream",
          "text": [
            "[WARNING] problem with /content/drive/MyDrive/downloads/split_dataset/train/other-validation/https___i.pinimg.com_originals_00_92_c4_0092c473456acd2e4819da18ac964760.gif, cannot identify image file '/content/drive/MyDrive/downloads/split_dataset/train/other-validation/https___i.pinimg.com_originals_00_92_c4_0092c473456acd2e4819da18ac964760.gif'\n",
            "[WARNING] file /content/drive/MyDrive/downloads/split_dataset/train/other-validation/https___i.pinimg.com_originals_00_92_c4_0092c473456acd2e4819da18ac964760.gif is not supported and will be ignored\n",
            "Processing...\n"
          ]
        },
        {
          "name": "stderr",
          "output_type": "stream",
          "text": [
            " 16%|█▌        | 32/206 [04:31<29:30, 10.18s/it]"
          ]
        },
        {
          "name": "stdout",
          "output_type": "stream",
          "text": [
            "[INFO] dataset train finished processing 1000 images so far\n"
          ]
        },
        {
          "name": "stderr",
          "output_type": "stream",
          "text": [
            " 31%|███       | 63/206 [09:35<23:24,  9.82s/it]"
          ]
        },
        {
          "name": "stdout",
          "output_type": "stream",
          "text": [
            "[INFO] dataset train finished processing 2000 images so far\n"
          ]
        },
        {
          "name": "stderr",
          "output_type": "stream",
          "text": [
            " 46%|████▌     | 94/206 [14:17<17:30,  9.38s/it]"
          ]
        },
        {
          "name": "stdout",
          "output_type": "stream",
          "text": [
            "[INFO] dataset train finished processing 3000 images so far\n"
          ]
        },
        {
          "name": "stderr",
          "output_type": "stream",
          "text": [
            " 61%|██████    | 126/206 [18:45<12:13,  9.17s/it]"
          ]
        },
        {
          "name": "stdout",
          "output_type": "stream",
          "text": [
            "[INFO] dataset train finished processing 4000 images so far\n"
          ]
        },
        {
          "name": "stderr",
          "output_type": "stream",
          "text": [
            " 76%|███████▌  | 157/206 [23:34<07:37,  9.34s/it]"
          ]
        },
        {
          "name": "stdout",
          "output_type": "stream",
          "text": [
            "[INFO] dataset train finished processing 5000 images so far\n"
          ]
        },
        {
          "name": "stderr",
          "output_type": "stream",
          "text": [
            " 91%|█████████▏| 188/206 [28:18<02:42,  9.05s/it]"
          ]
        },
        {
          "name": "stdout",
          "output_type": "stream",
          "text": [
            "[INFO] dataset train finished processing 6000 images so far\n"
          ]
        },
        {
          "name": "stderr",
          "output_type": "stream",
          "text": [
            "100%|██████████| 206/206 [31:00<00:00,  9.03s/it]\n"
          ]
        },
        {
          "name": "stdout",
          "output_type": "stream",
          "text": [
            "[INFO] Writing to database table in /content/drive/MyDrive/output/train/image_dataset_cache.sqlite\n",
            "[INFO] Finished.\n",
            "Processing...\n"
          ]
        },
        {
          "name": "stderr",
          "output_type": "stream",
          "text": [
            " 27%|██▋       | 14/51 [02:14<05:43,  9.29s/it]"
          ]
        }
      ],
      "source": [
        "import os\n",
        "for file in os.listdir(target_directory):   #computing train and test features\n",
        "    feature_path=os.path.join(output_folder,file)\n",
        "    if not os.path.exists(feature_path):\n",
        "        os.makedirs(feature_path,exist_ok=True)\n",
        "    ImageDatasetProcessor.process_dataset(os.path.join(target_directory,file),feature_path, clip_model)\n",
        "  #  ImageDatasetProcessor.process_dataset(feature_path, output_folder, clip_model)"
      ]
    },
    {
      "cell_type": "markdown",
      "metadata": {
        "id": "9WczIszXAvBA"
      },
      "source": []
    },
    {
      "cell_type": "markdown",
      "metadata": {
        "id": "XpfGCYqu9KFB"
      },
      "source": []
    },
    {
      "cell_type": "markdown",
      "metadata": {
        "id": "JIlzuWYy9MOs"
      },
      "source": [
        "Running this cell will provide the paths to computed clip features and also setting percentage of data for validation in addition output directory for saving the results and checkpoints\n"
      ]
    },
    {
      "cell_type": "code",
      "execution_count": null,
      "metadata": {
        "id": "kz3oqXbPcLLA"
      },
      "outputs": [],
      "source": [
        "metadata_json = '/content/drive/MyDrive/output/train/input-metadata.json' \n",
        "tag_to_hash_json = '/content/drive/MyDrive/output/train/input-tag-to-image-hash-list.json'\n",
        "output_dir = '/content/drive/MyDrive/output'\n",
        "n_samples_train=100    #equal number of samples for tag and other class\n",
        "n_power=10 # e.g 2^n_power will train 8 classifiers of neurons=[2, 4, 8, 16, 32, 64, 128]\n",
        "sparsity=0.000    #l1 regularization\n",
        "num_iterations=100  #for optimizer to converge\n",
        "checkpoint_path='/content/drive/MyDrive/elm_checkpoints'\n",
        "evaluate_on_test=True"
      ]
    },
    {
      "cell_type": "markdown",
      "metadata": {
        "id": "_LD3v1_V0LTA"
      },
      "source": []
    },
    {
      "cell_type": "markdown",
      "metadata": {
        "id": "qczuuhdl32lR"
      },
      "source": [
        "\n"
      ]
    },
    {
      "cell_type": "markdown",
      "metadata": {
        "id": "tQOWuSnL8iYo"
      },
      "source": [
        "Running this cell will train and test simultaneously for different number of neurons\n"
      ]
    },
    {
      "cell_type": "code",
      "execution_count": null,
      "metadata": {
        "colab": {
          "base_uri": "https://localhost:8080/",
          "height": 1000
        },
        "id": "Mp7SOFe7OWfR",
        "outputId": "d4476b10-4d04-4f8c-e5e4-d1986d6f4e93"
      },
      "outputs": [
        {
          "name": "stdout",
          "output_type": "stream",
          "text": [
            "Warning: CUDA not available, using CPU.\n",
            "Accuracy: 0.4725274725274725\n",
            "<class 'dict'>\n",
            "<class 'dict'>\n"
          ]
        },
        {
          "name": "stderr",
          "output_type": "stream",
          "text": [
            "/usr/local/lib/python3.9/dist-packages/sklearn/preprocessing/_encoders.py:868: FutureWarning: `sparse` was renamed to `sparse_output` in version 1.2 and will be removed in 1.4. `sparse_output` is ignored unless you leave `sparse` to its default value.\n",
            "  warnings.warn(\n",
            "/usr/local/lib/python3.9/dist-packages/sklearn/metrics/_classification.py:1344: UndefinedMetricWarning: Precision and F-score are ill-defined and being set to 0.0 in labels with no predicted samples. Use `zero_division` parameter to control this behavior.\n",
            "  _warn_prf(average, modifier, msg_start, len(result))\n",
            "/usr/local/lib/python3.9/dist-packages/sklearn/metrics/_classification.py:1344: UndefinedMetricWarning: Precision and F-score are ill-defined and being set to 0.0 in labels with no predicted samples. Use `zero_division` parameter to control this behavior.\n",
            "  _warn_prf(average, modifier, msg_start, len(result))\n",
            "/usr/local/lib/python3.9/dist-packages/sklearn/metrics/_classification.py:1344: UndefinedMetricWarning: Precision and F-score are ill-defined and being set to 0.0 in labels with no predicted samples. Use `zero_division` parameter to control this behavior.\n",
            "  _warn_prf(average, modifier, msg_start, len(result))\n",
            "/usr/local/lib/python3.9/dist-packages/sklearn/metrics/_classification.py:1344: UndefinedMetricWarning: Precision and F-score are ill-defined and being set to 0.0 in labels with no predicted samples. Use `zero_division` parameter to control this behavior.\n",
            "  _warn_prf(average, modifier, msg_start, len(result))\n",
            "/usr/local/lib/python3.9/dist-packages/sklearn/metrics/_classification.py:1344: UndefinedMetricWarning: Precision and F-score are ill-defined and being set to 0.0 in labels with no predicted samples. Use `zero_division` parameter to control this behavior.\n",
            "  _warn_prf(average, modifier, msg_start, len(result))\n",
            "/usr/local/lib/python3.9/dist-packages/sklearn/metrics/_classification.py:1344: UndefinedMetricWarning: Precision and F-score are ill-defined and being set to 0.0 in labels with no predicted samples. Use `zero_division` parameter to control this behavior.\n",
            "  _warn_prf(average, modifier, msg_start, len(result))\n"
          ]
        },
        {
          "name": "stdout",
          "output_type": "stream",
          "text": [
            "455\n",
            "455\n",
            "Accuracy: 0.5340659340659341\n",
            "<class 'dict'>\n",
            "<class 'dict'>\n",
            "455\n",
            "455\n",
            "Accuracy: 0.45274725274725275\n",
            "<class 'dict'>\n",
            "<class 'dict'>\n",
            "455\n",
            "455\n",
            "Accuracy: 0.6065934065934065\n",
            "<class 'dict'>\n",
            "<class 'dict'>\n",
            "455\n",
            "455\n",
            "Accuracy: 0.5692307692307692\n",
            "<class 'dict'>\n",
            "<class 'dict'>\n",
            "455\n",
            "455\n",
            "Accuracy: 0.5802197802197803\n",
            "<class 'dict'>\n",
            "<class 'dict'>\n",
            "455\n",
            "455\n",
            "Accuracy: 0.610989010989011\n",
            "<class 'dict'>\n",
            "<class 'dict'>\n",
            "455\n",
            "455\n",
            "Accuracy: 0.5956043956043956\n",
            "<class 'dict'>\n",
            "<class 'dict'>\n",
            "455\n",
            "455\n",
            "Accuracy: 0.6153846153846154\n",
            "<class 'dict'>\n",
            "<class 'dict'>\n",
            "455\n",
            "455\n"
          ]
        },
        {
          "name": "stderr",
          "output_type": "stream",
          "text": [
            "/content/drive/MyDrive/elm_model_upd.py:383: UserWarning: No data for colormapping provided via 'c'. Parameters 'cmap' will be ignored\n",
            "  plt.scatter(n_new[i], arr,cmap = 'viridis')\n"
          ]
        },
        {
          "data": {
            "image/png": "[encoded data removed]",
            "text/plain": [
              "<Figure size 640x480 with 1 Axes>"
            ]
          },
          "metadata": {},
          "output_type": "display_data"
        },
        {
          "name": "stderr",
          "output_type": "stream",
          "text": [
            "/usr/local/lib/python3.9/dist-packages/sklearn/preprocessing/_encoders.py:868: FutureWarning: `sparse` was renamed to `sparse_output` in version 1.2 and will be removed in 1.4. `sparse_output` is ignored unless you leave `sparse` to its default value.\n",
            "  warnings.warn(\n"
          ]
        },
        {
          "name": "stdout",
          "output_type": "stream",
          "text": [
            "Accuracy: 0.5789473684210527\n",
            "<class 'dict'>\n",
            "<class 'dict'>\n",
            "722\n",
            "722\n",
            "Accuracy: 0.4889196675900277\n",
            "<class 'dict'>\n",
            "<class 'dict'>\n",
            "722\n",
            "722\n",
            "Accuracy: 0.5470914127423823\n",
            "<class 'dict'>\n",
            "<class 'dict'>\n",
            "722\n",
            "722\n",
            "Accuracy: 0.5554016620498615\n",
            "<class 'dict'>\n",
            "<class 'dict'>\n",
            "722\n",
            "722\n",
            "Accuracy: 0.6301939058171745\n",
            "<class 'dict'>\n",
            "<class 'dict'>\n",
            "722\n",
            "722\n",
            "Accuracy: 0.556786703601108\n",
            "<class 'dict'>\n",
            "<class 'dict'>\n",
            "722\n",
            "722\n",
            "Accuracy: 0.6648199445983379\n",
            "<class 'dict'>\n",
            "<class 'dict'>\n",
            "722\n",
            "722\n",
            "Accuracy: 0.6800554016620498\n",
            "<class 'dict'>\n",
            "<class 'dict'>\n",
            "722\n",
            "722\n",
            "Accuracy: 0.6897506925207756\n",
            "<class 'dict'>\n",
            "<class 'dict'>\n",
            "722\n",
            "722\n"
          ]
        },
        {
          "name": "stderr",
          "output_type": "stream",
          "text": [
            "/content/drive/MyDrive/elm_model_upd.py:383: UserWarning: No data for colormapping provided via 'c'. Parameters 'cmap' will be ignored\n",
            "  plt.scatter(n_new[i], arr,cmap = 'viridis')\n"
          ]
        },
        {
          "data": {
            "image/png": "[encoded data removed]",
            "text/plain": [
              "<Figure size 640x480 with 1 Axes>"
            ]
          },
          "metadata": {},
          "output_type": "display_data"
        },
        {
          "name": "stderr",
          "output_type": "stream",
          "text": [
            "/usr/local/lib/python3.9/dist-packages/sklearn/preprocessing/_encoders.py:868: FutureWarning: `sparse` was renamed to `sparse_output` in version 1.2 and will be removed in 1.4. `sparse_output` is ignored unless you leave `sparse` to its default value.\n",
            "  warnings.warn(\n"
          ]
        },
        {
          "name": "stdout",
          "output_type": "stream",
          "text": [
            "Accuracy: 0.48616600790513836\n",
            "<class 'dict'>\n",
            "<class 'dict'>\n"
          ]
        },
        {
          "ename": "KeyboardInterrupt",
          "evalue": "ignored",
          "output_type": "error",
          "traceback": [
            "\u001b[0;31m---------------------------------------------------------------------------\u001b[0m",
            "\u001b[0;31mAttributeError\u001b[0m                            Traceback (most recent call last)",
            "\u001b[0;32m/usr/local/lib/python3.9/dist-packages/PIL/ImageFile.py\u001b[0m in \u001b[0;36m_save\u001b[0;34m(im, fp, tile, bufsize)\u001b[0m\n\u001b[1;32m    503\u001b[0m     \u001b[0;32mtry\u001b[0m\u001b[0;34m:\u001b[0m\u001b[0;34m\u001b[0m\u001b[0;34m\u001b[0m\u001b[0m\n\u001b[0;32m--> 504\u001b[0;31m         \u001b[0mfh\u001b[0m \u001b[0;34m=\u001b[0m \u001b[0mfp\u001b[0m\u001b[0;34m.\u001b[0m\u001b[0mfileno\u001b[0m\u001b[0;34m(\u001b[0m\u001b[0;34m)\u001b[0m\u001b[0;34m\u001b[0m\u001b[0;34m\u001b[0m\u001b[0m\n\u001b[0m\u001b[1;32m    505\u001b[0m         \u001b[0mfp\u001b[0m\u001b[0;34m.\u001b[0m\u001b[0mflush\u001b[0m\u001b[0;34m(\u001b[0m\u001b[0;34m)\u001b[0m\u001b[0;34m\u001b[0m\u001b[0;34m\u001b[0m\u001b[0m\n",
            "\u001b[0;31mAttributeError\u001b[0m: '_idat' object has no attribute 'fileno'",
            "\nDuring handling of the above exception, another exception occurred:\n",
            "\u001b[0;31mKeyboardInterrupt\u001b[0m                         Traceback (most recent call last)",
            "\u001b[0;32m<ipython-input-3-c0f42c2ac7b5>\u001b[0m in \u001b[0;36m<cell line: 7>\u001b[0;34m()\u001b[0m\n\u001b[1;32m      5\u001b[0m \u001b[0;34m\u001b[0m\u001b[0m\n\u001b[1;32m      6\u001b[0m \u001b[0;34m\u001b[0m\u001b[0m\n\u001b[0;32m----> 7\u001b[0;31m \u001b[0mmy_trainer\u001b[0m\u001b[0;34m.\u001b[0m\u001b[0mtrain_test_classifier\u001b[0m\u001b[0;34m(\u001b[0m\u001b[0;34m)\u001b[0m\u001b[0;34m\u001b[0m\u001b[0;34m\u001b[0m\u001b[0m\n\u001b[0m",
            "\u001b[0;32m/content/drive/MyDrive/elm_model_upd.py\u001b[0m in \u001b[0;36mtrain_test_classifier\u001b[0;34m(self)\u001b[0m\n\u001b[1;32m    258\u001b[0m                             \u001b[0mpredicted_labels\u001b[0m\u001b[0;34m,\u001b[0m\u001b[0mtag_prob\u001b[0m \u001b[0;34m=\u001b[0m \u001b[0mtrained_elm\u001b[0m\u001b[0;34m.\u001b[0m\u001b[0mpredict\u001b[0m\u001b[0;34m(\u001b[0m\u001b[0mx_test\u001b[0m\u001b[0;34m)\u001b[0m\u001b[0;34m\u001b[0m\u001b[0;34m\u001b[0m\u001b[0m\n\u001b[1;32m    259\u001b[0m                             \u001b[0macc\u001b[0m\u001b[0;34m,\u001b[0m\u001b[0mclass_specific_accuracies\u001b[0m\u001b[0;34m=\u001b[0m\u001b[0mself\u001b[0m\u001b[0;34m.\u001b[0m\u001b[0mresult_stats\u001b[0m\u001b[0;34m(\u001b[0m\u001b[0mtest_labels\u001b[0m\u001b[0;34m,\u001b[0m\u001b[0mpredicted_labels\u001b[0m\u001b[0;34m,\u001b[0m\u001b[0mtag\u001b[0m\u001b[0;34m,\u001b[0m\u001b[0mn_neurons\u001b[0m\u001b[0;34m,\u001b[0m\u001b[0mself\u001b[0m\u001b[0;34m.\u001b[0m\u001b[0moutput_dir\u001b[0m\u001b[0;34m,\u001b[0m\u001b[0mdict1\u001b[0m\u001b[0;34m)\u001b[0m\u001b[0;34m\u001b[0m\u001b[0;34m\u001b[0m\u001b[0m\n\u001b[0;32m--> 260\u001b[0;31m                             \u001b[0mfolder_plots\u001b[0m\u001b[0;34m=\u001b[0m\u001b[0mself\u001b[0m\u001b[0;34m.\u001b[0m\u001b[0msave_classification_report\u001b[0m\u001b[0;34m(\u001b[0m\u001b[0mtest_labels\u001b[0m\u001b[0;34m,\u001b[0m \u001b[0mpredicted_labels\u001b[0m\u001b[0;34m,\u001b[0m \u001b[0mtag\u001b[0m\u001b[0;34m,\u001b[0m \u001b[0macc\u001b[0m\u001b[0;34m,\u001b[0m \u001b[0mself\u001b[0m\u001b[0;34m.\u001b[0m\u001b[0moutput_dir\u001b[0m\u001b[0;34m,\u001b[0m\u001b[0mn_neurons\u001b[0m\u001b[0;34m)\u001b[0m\u001b[0;34m\u001b[0m\u001b[0;34m\u001b[0m\u001b[0m\n\u001b[0m\u001b[1;32m    261\u001b[0m                             \u001b[0mtag_predictions_list\u001b[0m\u001b[0;34m.\u001b[0m\u001b[0mappend\u001b[0m\u001b[0;34m(\u001b[0m\u001b[0mtag_prob\u001b[0m\u001b[0;34m)\u001b[0m\u001b[0;34m\u001b[0m\u001b[0;34m\u001b[0m\u001b[0m\n\u001b[1;32m    262\u001b[0m \u001b[0;34m\u001b[0m\u001b[0m\n",
            "\u001b[0;32m/content/drive/MyDrive/elm_model_upd.py\u001b[0m in \u001b[0;36msave_classification_report\u001b[0;34m(self, test_labels, predicted_labels, tag, acc, output_dir, n_neurons)\u001b[0m\n\u001b[1;32m    357\u001b[0m         \u001b[0mplt\u001b[0m\u001b[0;34m.\u001b[0m\u001b[0mxticks\u001b[0m\u001b[0;34m(\u001b[0m\u001b[0mx_pos\u001b[0m\u001b[0;34m,\u001b[0m \u001b[0mx_labels\u001b[0m\u001b[0;34m)\u001b[0m\u001b[0;34m\u001b[0m\u001b[0;34m\u001b[0m\u001b[0m\n\u001b[1;32m    358\u001b[0m         \u001b[0mplt\u001b[0m\u001b[0;34m.\u001b[0m\u001b[0mtitle\u001b[0m\u001b[0;34m(\u001b[0m\u001b[0;34m'Elm model for '\u001b[0m \u001b[0;34m+\u001b[0m \u001b[0mtag\u001b[0m\u001b[0;34m)\u001b[0m\u001b[0;34m\u001b[0m\u001b[0;34m\u001b[0m\u001b[0m\n\u001b[0;32m--> 359\u001b[0;31m         \u001b[0mplt\u001b[0m\u001b[0;34m.\u001b[0m\u001b[0msavefig\u001b[0m\u001b[0;34m(\u001b[0m\u001b[0mos\u001b[0m\u001b[0;34m.\u001b[0m\u001b[0mpath\u001b[0m\u001b[0;34m.\u001b[0m\u001b[0mjoin\u001b[0m\u001b[0;34m(\u001b[0m\u001b[0mfolder_plots\u001b[0m\u001b[0;34m,\u001b[0m \u001b[0;34m'performance_merics of'\u001b[0m \u001b[0;34m+\u001b[0m \u001b[0;34m' '\u001b[0m \u001b[0;34m+\u001b[0m \u001b[0mtag\u001b[0m \u001b[0;34m+\u001b[0m\u001b[0;34m'for'\u001b[0m \u001b[0;34m+\u001b[0m\u001b[0mstr\u001b[0m\u001b[0;34m(\u001b[0m\u001b[0mn_neurons\u001b[0m\u001b[0;34m)\u001b[0m\u001b[0;34m+\u001b[0m  \u001b[0;34m'.png'\u001b[0m\u001b[0;34m)\u001b[0m\u001b[0;34m,\u001b[0m \u001b[0mdpi\u001b[0m\u001b[0;34m=\u001b[0m\u001b[0;36m300\u001b[0m\u001b[0;34m,\u001b[0m \u001b[0mbbox_inches\u001b[0m\u001b[0;34m=\u001b[0m\u001b[0;34m'tight'\u001b[0m\u001b[0;34m)\u001b[0m\u001b[0;34m\u001b[0m\u001b[0;34m\u001b[0m\u001b[0m\n\u001b[0m\u001b[1;32m    360\u001b[0m         \u001b[0mplt\u001b[0m\u001b[0;34m.\u001b[0m\u001b[0mclf\u001b[0m\u001b[0;34m(\u001b[0m\u001b[0;34m)\u001b[0m\u001b[0;34m\u001b[0m\u001b[0;34m\u001b[0m\u001b[0m\n\u001b[1;32m    361\u001b[0m         \u001b[0;32mreturn\u001b[0m \u001b[0mfolder_plots\u001b[0m\u001b[0;34m\u001b[0m\u001b[0;34m\u001b[0m\u001b[0m\n",
            "\u001b[0;32m/usr/local/lib/python3.9/dist-packages/matplotlib/pyplot.py\u001b[0m in \u001b[0;36msavefig\u001b[0;34m(*args, **kwargs)\u001b[0m\n\u001b[1;32m   1021\u001b[0m \u001b[0;32mdef\u001b[0m \u001b[0msavefig\u001b[0m\u001b[0;34m(\u001b[0m\u001b[0;34m*\u001b[0m\u001b[0margs\u001b[0m\u001b[0;34m,\u001b[0m \u001b[0;34m**\u001b[0m\u001b[0mkwargs\u001b[0m\u001b[0;34m)\u001b[0m\u001b[0;34m:\u001b[0m\u001b[0;34m\u001b[0m\u001b[0;34m\u001b[0m\u001b[0m\n\u001b[1;32m   1022\u001b[0m     \u001b[0mfig\u001b[0m \u001b[0;34m=\u001b[0m \u001b[0mgcf\u001b[0m\u001b[0;34m(\u001b[0m\u001b[0;34m)\u001b[0m\u001b[0;34m\u001b[0m\u001b[0;34m\u001b[0m\u001b[0m\n\u001b[0;32m-> 1023\u001b[0;31m     \u001b[0mres\u001b[0m \u001b[0;34m=\u001b[0m \u001b[0mfig\u001b[0m\u001b[0;34m.\u001b[0m\u001b[0msavefig\u001b[0m\u001b[0;34m(\u001b[0m\u001b[0;34m*\u001b[0m\u001b[0margs\u001b[0m\u001b[0;34m,\u001b[0m \u001b[0;34m**\u001b[0m\u001b[0mkwargs\u001b[0m\u001b[0;34m)\u001b[0m\u001b[0;34m\u001b[0m\u001b[0;34m\u001b[0m\u001b[0m\n\u001b[0m\u001b[1;32m   1024\u001b[0m     \u001b[0mfig\u001b[0m\u001b[0;34m.\u001b[0m\u001b[0mcanvas\u001b[0m\u001b[0;34m.\u001b[0m\u001b[0mdraw_idle\u001b[0m\u001b[0;34m(\u001b[0m\u001b[0;34m)\u001b[0m  \u001b[0;31m# Need this if 'transparent=True', to reset colors.\u001b[0m\u001b[0;34m\u001b[0m\u001b[0;34m\u001b[0m\u001b[0m\n\u001b[1;32m   1025\u001b[0m     \u001b[0;32mreturn\u001b[0m \u001b[0mres\u001b[0m\u001b[0;34m\u001b[0m\u001b[0;34m\u001b[0m\u001b[0m\n",
            "\u001b[0;32m/usr/local/lib/python3.9/dist-packages/matplotlib/figure.py\u001b[0m in \u001b[0;36msavefig\u001b[0;34m(self, fname, transparent, **kwargs)\u001b[0m\n\u001b[1;32m   3341\u001b[0m                         ax.patch._cm_set(facecolor='none', edgecolor='none'))\n\u001b[1;32m   3342\u001b[0m \u001b[0;34m\u001b[0m\u001b[0m\n\u001b[0;32m-> 3343\u001b[0;31m             \u001b[0mself\u001b[0m\u001b[0;34m.\u001b[0m\u001b[0mcanvas\u001b[0m\u001b[0;34m.\u001b[0m\u001b[0mprint_figure\u001b[0m\u001b[0;34m(\u001b[0m\u001b[0mfname\u001b[0m\u001b[0;34m,\u001b[0m \u001b[0;34m**\u001b[0m\u001b[0mkwargs\u001b[0m\u001b[0;34m)\u001b[0m\u001b[0;34m\u001b[0m\u001b[0;34m\u001b[0m\u001b[0m\n\u001b[0m\u001b[1;32m   3344\u001b[0m \u001b[0;34m\u001b[0m\u001b[0m\n\u001b[1;32m   3345\u001b[0m     def ginput(self, n=1, timeout=30, show_clicks=True,\n",
            "\u001b[0;32m/usr/local/lib/python3.9/dist-packages/matplotlib/backend_bases.py\u001b[0m in \u001b[0;36mprint_figure\u001b[0;34m(self, filename, dpi, facecolor, edgecolor, orientation, format, bbox_inches, pad_inches, bbox_extra_artists, backend, **kwargs)\u001b[0m\n\u001b[1;32m   2364\u001b[0m                 \u001b[0;31m# force the figure dpi to 72), so we need to set it again here.\u001b[0m\u001b[0;34m\u001b[0m\u001b[0;34m\u001b[0m\u001b[0m\n\u001b[1;32m   2365\u001b[0m                 \u001b[0;32mwith\u001b[0m \u001b[0mcbook\u001b[0m\u001b[0;34m.\u001b[0m\u001b[0m_setattr_cm\u001b[0m\u001b[0;34m(\u001b[0m\u001b[0mself\u001b[0m\u001b[0;34m.\u001b[0m\u001b[0mfigure\u001b[0m\u001b[0;34m,\u001b[0m \u001b[0mdpi\u001b[0m\u001b[0;34m=\u001b[0m\u001b[0mdpi\u001b[0m\u001b[0;34m)\u001b[0m\u001b[0;34m:\u001b[0m\u001b[0;34m\u001b[0m\u001b[0;34m\u001b[0m\u001b[0m\n\u001b[0;32m-> 2366\u001b[0;31m                     result = print_method(\n\u001b[0m\u001b[1;32m   2367\u001b[0m                         \u001b[0mfilename\u001b[0m\u001b[0;34m,\u001b[0m\u001b[0;34m\u001b[0m\u001b[0;34m\u001b[0m\u001b[0m\n\u001b[1;32m   2368\u001b[0m                         \u001b[0mfacecolor\u001b[0m\u001b[0;34m=\u001b[0m\u001b[0mfacecolor\u001b[0m\u001b[0;34m,\u001b[0m\u001b[0;34m\u001b[0m\u001b[0;34m\u001b[0m\u001b[0m\n",
            "\u001b[0;32m/usr/local/lib/python3.9/dist-packages/matplotlib/backend_bases.py\u001b[0m in \u001b[0;36m<lambda>\u001b[0;34m(*args, **kwargs)\u001b[0m\n\u001b[1;32m   2230\u001b[0m                 \"bbox_inches_restore\"}\n\u001b[1;32m   2231\u001b[0m             \u001b[0mskip\u001b[0m \u001b[0;34m=\u001b[0m \u001b[0moptional_kws\u001b[0m \u001b[0;34m-\u001b[0m \u001b[0;34m{\u001b[0m\u001b[0;34m*\u001b[0m\u001b[0minspect\u001b[0m\u001b[0;34m.\u001b[0m\u001b[0msignature\u001b[0m\u001b[0;34m(\u001b[0m\u001b[0mmeth\u001b[0m\u001b[0;34m)\u001b[0m\u001b[0;34m.\u001b[0m\u001b[0mparameters\u001b[0m\u001b[0;34m}\u001b[0m\u001b[0;34m\u001b[0m\u001b[0;34m\u001b[0m\u001b[0m\n\u001b[0;32m-> 2232\u001b[0;31m             print_method = functools.wraps(meth)(lambda *args, **kwargs: meth(\n\u001b[0m\u001b[1;32m   2233\u001b[0m                 *args, **{k: v for k, v in kwargs.items() if k not in skip}))\n\u001b[1;32m   2234\u001b[0m         \u001b[0;32melse\u001b[0m\u001b[0;34m:\u001b[0m  \u001b[0;31m# Let third-parties do as they see fit.\u001b[0m\u001b[0;34m\u001b[0m\u001b[0;34m\u001b[0m\u001b[0m\n",
            "\u001b[0;32m/usr/local/lib/python3.9/dist-packages/matplotlib/backends/backend_agg.py\u001b[0m in \u001b[0;36mprint_png\u001b[0;34m(self, filename_or_obj, metadata, pil_kwargs)\u001b[0m\n\u001b[1;32m    507\u001b[0m             \u001b[0;34m*\u001b[0m\u001b[0mmetadata\u001b[0m\u001b[0;34m*\u001b[0m\u001b[0;34m,\u001b[0m \u001b[0mincluding\u001b[0m \u001b[0mthe\u001b[0m \u001b[0mdefault\u001b[0m \u001b[0;34m'Software'\u001b[0m \u001b[0mkey\u001b[0m\u001b[0;34m.\u001b[0m\u001b[0;34m\u001b[0m\u001b[0;34m\u001b[0m\u001b[0m\n\u001b[1;32m    508\u001b[0m         \"\"\"\n\u001b[0;32m--> 509\u001b[0;31m         \u001b[0mself\u001b[0m\u001b[0;34m.\u001b[0m\u001b[0m_print_pil\u001b[0m\u001b[0;34m(\u001b[0m\u001b[0mfilename_or_obj\u001b[0m\u001b[0;34m,\u001b[0m \u001b[0;34m\"png\"\u001b[0m\u001b[0;34m,\u001b[0m \u001b[0mpil_kwargs\u001b[0m\u001b[0;34m,\u001b[0m \u001b[0mmetadata\u001b[0m\u001b[0;34m)\u001b[0m\u001b[0;34m\u001b[0m\u001b[0;34m\u001b[0m\u001b[0m\n\u001b[0m\u001b[1;32m    510\u001b[0m \u001b[0;34m\u001b[0m\u001b[0m\n\u001b[1;32m    511\u001b[0m     \u001b[0;32mdef\u001b[0m \u001b[0mprint_to_buffer\u001b[0m\u001b[0;34m(\u001b[0m\u001b[0mself\u001b[0m\u001b[0;34m)\u001b[0m\u001b[0;34m:\u001b[0m\u001b[0;34m\u001b[0m\u001b[0;34m\u001b[0m\u001b[0m\n",
            "\u001b[0;32m/usr/local/lib/python3.9/dist-packages/matplotlib/backends/backend_agg.py\u001b[0m in \u001b[0;36m_print_pil\u001b[0;34m(self, filename_or_obj, fmt, pil_kwargs, metadata)\u001b[0m\n\u001b[1;32m    456\u001b[0m         \"\"\"\n\u001b[1;32m    457\u001b[0m         \u001b[0mFigureCanvasAgg\u001b[0m\u001b[0;34m.\u001b[0m\u001b[0mdraw\u001b[0m\u001b[0;34m(\u001b[0m\u001b[0mself\u001b[0m\u001b[0;34m)\u001b[0m\u001b[0;34m\u001b[0m\u001b[0;34m\u001b[0m\u001b[0m\n\u001b[0;32m--> 458\u001b[0;31m         mpl.image.imsave(\n\u001b[0m\u001b[1;32m    459\u001b[0m             \u001b[0mfilename_or_obj\u001b[0m\u001b[0;34m,\u001b[0m \u001b[0mself\u001b[0m\u001b[0;34m.\u001b[0m\u001b[0mbuffer_rgba\u001b[0m\u001b[0;34m(\u001b[0m\u001b[0;34m)\u001b[0m\u001b[0;34m,\u001b[0m \u001b[0mformat\u001b[0m\u001b[0;34m=\u001b[0m\u001b[0mfmt\u001b[0m\u001b[0;34m,\u001b[0m \u001b[0morigin\u001b[0m\u001b[0;34m=\u001b[0m\u001b[0;34m\"upper\"\u001b[0m\u001b[0;34m,\u001b[0m\u001b[0;34m\u001b[0m\u001b[0;34m\u001b[0m\u001b[0m\n\u001b[1;32m    460\u001b[0m             dpi=self.figure.dpi, metadata=metadata, pil_kwargs=pil_kwargs)\n",
            "\u001b[0;32m/usr/local/lib/python3.9/dist-packages/matplotlib/image.py\u001b[0m in \u001b[0;36mimsave\u001b[0;34m(fname, arr, vmin, vmax, cmap, format, origin, dpi, metadata, pil_kwargs)\u001b[0m\n\u001b[1;32m   1687\u001b[0m         \u001b[0mpil_kwargs\u001b[0m\u001b[0;34m.\u001b[0m\u001b[0msetdefault\u001b[0m\u001b[0;34m(\u001b[0m\u001b[0;34m\"format\"\u001b[0m\u001b[0;34m,\u001b[0m \u001b[0mformat\u001b[0m\u001b[0;34m)\u001b[0m\u001b[0;34m\u001b[0m\u001b[0;34m\u001b[0m\u001b[0m\n\u001b[1;32m   1688\u001b[0m         \u001b[0mpil_kwargs\u001b[0m\u001b[0;34m.\u001b[0m\u001b[0msetdefault\u001b[0m\u001b[0;34m(\u001b[0m\u001b[0;34m\"dpi\"\u001b[0m\u001b[0;34m,\u001b[0m \u001b[0;34m(\u001b[0m\u001b[0mdpi\u001b[0m\u001b[0;34m,\u001b[0m \u001b[0mdpi\u001b[0m\u001b[0;34m)\u001b[0m\u001b[0;34m)\u001b[0m\u001b[0;34m\u001b[0m\u001b[0;34m\u001b[0m\u001b[0m\n\u001b[0;32m-> 1689\u001b[0;31m         \u001b[0mimage\u001b[0m\u001b[0;34m.\u001b[0m\u001b[0msave\u001b[0m\u001b[0;34m(\u001b[0m\u001b[0mfname\u001b[0m\u001b[0;34m,\u001b[0m \u001b[0;34m**\u001b[0m\u001b[0mpil_kwargs\u001b[0m\u001b[0;34m)\u001b[0m\u001b[0;34m\u001b[0m\u001b[0;34m\u001b[0m\u001b[0m\n\u001b[0m\u001b[1;32m   1690\u001b[0m \u001b[0;34m\u001b[0m\u001b[0m\n\u001b[1;32m   1691\u001b[0m \u001b[0;34m\u001b[0m\u001b[0m\n",
            "\u001b[0;32m/usr/local/lib/python3.9/dist-packages/PIL/Image.py\u001b[0m in \u001b[0;36msave\u001b[0;34m(self, fp, format, **params)\u001b[0m\n\u001b[1;32m   2238\u001b[0m \u001b[0;34m\u001b[0m\u001b[0m\n\u001b[1;32m   2239\u001b[0m         \u001b[0;32mtry\u001b[0m\u001b[0;34m:\u001b[0m\u001b[0;34m\u001b[0m\u001b[0;34m\u001b[0m\u001b[0m\n\u001b[0;32m-> 2240\u001b[0;31m             \u001b[0msave_handler\u001b[0m\u001b[0;34m(\u001b[0m\u001b[0mself\u001b[0m\u001b[0;34m,\u001b[0m \u001b[0mfp\u001b[0m\u001b[0;34m,\u001b[0m \u001b[0mfilename\u001b[0m\u001b[0;34m)\u001b[0m\u001b[0;34m\u001b[0m\u001b[0;34m\u001b[0m\u001b[0m\n\u001b[0m\u001b[1;32m   2241\u001b[0m         \u001b[0;32mfinally\u001b[0m\u001b[0;34m:\u001b[0m\u001b[0;34m\u001b[0m\u001b[0;34m\u001b[0m\u001b[0m\n\u001b[1;32m   2242\u001b[0m             \u001b[0;31m# do what we can to clean up\u001b[0m\u001b[0;34m\u001b[0m\u001b[0;34m\u001b[0m\u001b[0m\n",
            "\u001b[0;32m/usr/local/lib/python3.9/dist-packages/PIL/PngImagePlugin.py\u001b[0m in \u001b[0;36m_save\u001b[0;34m(im, fp, filename, chunk, save_all)\u001b[0m\n\u001b[1;32m   1346\u001b[0m         \u001b[0m_write_multiple_frames\u001b[0m\u001b[0;34m(\u001b[0m\u001b[0mim\u001b[0m\u001b[0;34m,\u001b[0m \u001b[0mfp\u001b[0m\u001b[0;34m,\u001b[0m \u001b[0mchunk\u001b[0m\u001b[0;34m,\u001b[0m \u001b[0mrawmode\u001b[0m\u001b[0;34m)\u001b[0m\u001b[0;34m\u001b[0m\u001b[0;34m\u001b[0m\u001b[0m\n\u001b[1;32m   1347\u001b[0m     \u001b[0;32melse\u001b[0m\u001b[0;34m:\u001b[0m\u001b[0;34m\u001b[0m\u001b[0;34m\u001b[0m\u001b[0m\n\u001b[0;32m-> 1348\u001b[0;31m         \u001b[0mImageFile\u001b[0m\u001b[0;34m.\u001b[0m\u001b[0m_save\u001b[0m\u001b[0;34m(\u001b[0m\u001b[0mim\u001b[0m\u001b[0;34m,\u001b[0m \u001b[0m_idat\u001b[0m\u001b[0;34m(\u001b[0m\u001b[0mfp\u001b[0m\u001b[0;34m,\u001b[0m \u001b[0mchunk\u001b[0m\u001b[0;34m)\u001b[0m\u001b[0;34m,\u001b[0m \u001b[0;34m[\u001b[0m\u001b[0;34m(\u001b[0m\u001b[0;34m\"zip\"\u001b[0m\u001b[0;34m,\u001b[0m \u001b[0;34m(\u001b[0m\u001b[0;36m0\u001b[0m\u001b[0;34m,\u001b[0m \u001b[0;36m0\u001b[0m\u001b[0;34m)\u001b[0m \u001b[0;34m+\u001b[0m \u001b[0mim\u001b[0m\u001b[0;34m.\u001b[0m\u001b[0msize\u001b[0m\u001b[0;34m,\u001b[0m \u001b[0;36m0\u001b[0m\u001b[0;34m,\u001b[0m \u001b[0mrawmode\u001b[0m\u001b[0;34m)\u001b[0m\u001b[0;34m]\u001b[0m\u001b[0;34m)\u001b[0m\u001b[0;34m\u001b[0m\u001b[0;34m\u001b[0m\u001b[0m\n\u001b[0m\u001b[1;32m   1349\u001b[0m \u001b[0;34m\u001b[0m\u001b[0m\n\u001b[1;32m   1350\u001b[0m     \u001b[0;32mif\u001b[0m \u001b[0minfo\u001b[0m\u001b[0;34m:\u001b[0m\u001b[0;34m\u001b[0m\u001b[0;34m\u001b[0m\u001b[0m\n",
            "\u001b[0;32m/usr/local/lib/python3.9/dist-packages/PIL/ImageFile.py\u001b[0m in \u001b[0;36m_save\u001b[0;34m(im, fp, tile, bufsize)\u001b[0m\n\u001b[1;32m    516\u001b[0m             \u001b[0;32melse\u001b[0m\u001b[0;34m:\u001b[0m\u001b[0;34m\u001b[0m\u001b[0;34m\u001b[0m\u001b[0m\n\u001b[1;32m    517\u001b[0m                 \u001b[0;32mwhile\u001b[0m \u001b[0;32mTrue\u001b[0m\u001b[0;34m:\u001b[0m\u001b[0;34m\u001b[0m\u001b[0;34m\u001b[0m\u001b[0m\n\u001b[0;32m--> 518\u001b[0;31m                     \u001b[0ml\u001b[0m\u001b[0;34m,\u001b[0m \u001b[0ms\u001b[0m\u001b[0;34m,\u001b[0m \u001b[0md\u001b[0m \u001b[0;34m=\u001b[0m \u001b[0me\u001b[0m\u001b[0;34m.\u001b[0m\u001b[0mencode\u001b[0m\u001b[0;34m(\u001b[0m\u001b[0mbufsize\u001b[0m\u001b[0;34m)\u001b[0m\u001b[0;34m\u001b[0m\u001b[0;34m\u001b[0m\u001b[0m\n\u001b[0m\u001b[1;32m    519\u001b[0m                     \u001b[0mfp\u001b[0m\u001b[0;34m.\u001b[0m\u001b[0mwrite\u001b[0m\u001b[0;34m(\u001b[0m\u001b[0md\u001b[0m\u001b[0;34m)\u001b[0m\u001b[0;34m\u001b[0m\u001b[0;34m\u001b[0m\u001b[0m\n\u001b[1;32m    520\u001b[0m                     \u001b[0;32mif\u001b[0m \u001b[0ms\u001b[0m\u001b[0;34m:\u001b[0m\u001b[0;34m\u001b[0m\u001b[0;34m\u001b[0m\u001b[0m\n",
            "\u001b[0;31mKeyboardInterrupt\u001b[0m: "
          ]
        },
        {
          "data": {
            "image/png": "[encoded data removed]",
            "text/plain": [
              "<Figure size 640x480 with 1 Axes>"
            ]
          },
          "metadata": {},
          "output_type": "display_data"
        }
      ],
      "source": [
        "#Run the training and inference_script\n",
        "\n",
        "my_trainer = TrainAndEvaluate(metadata_json, tag_to_hash_json, output_dir,checkpoint_path, \n",
        "                              n_samples_train, n_power, sparsity, num_iterations,evaluate_on_test)\n",
        "\n",
        "\n",
        "my_trainer.train_test_classifier()\n"
      ]
    },
    {
      "cell_type": "markdown",
      "metadata": {
        "id": "ko8ReSjLwpf-"
      },
      "source": [
        "Testing on unseen data by loading checkpoints with different number of neurons with same tag "
      ]
    },
    {
      "cell_type": "code",
      "execution_count": null,
      "metadata": {
        "colab": {
          "base_uri": "https://localhost:8080/",
          "height": 837
        },
        "id": "xUpwqMel_5SM",
        "outputId": "532ffbe6-22a0-4745-982f-093583641ea7"
      },
      "outputs": [
        {
          "name": "stdout",
          "output_type": "stream",
          "text": [
            "Checkpoint loaded successfully...\n",
            "126\n",
            "126\n",
            "pos-pixel-art-environmental\n",
            "Using CUDA device: Tesla T4\n",
            "model predictions started\n",
            "[0 0 0 0 0 0 0 0 0 0 0 1 0 1 0 0 0 0 1 1 0 0 0 0 0 0 0 0 0 0 0 0 0 0 0 0 0\n",
            " 0 0 0 0 0 0 0 0 0 0 0 0 0 0 0 0 0 1 0 0 0 0 0 0 1 0 1 1 0 0 0 0 0 0 0 0 0\n",
            " 0 0 0 0 0 0 0 0 0 0 0 0 0 0 0 0 0 0 0 0 0 0 0 0 0 0 0 0 0 0 0 0 0 0 0 0 0\n",
            " 0 0 0 0 1 0 0 0 0 0 0 0 0 0 0]\n",
            "actual_labels tensor([0., 0., 0., 0., 0., 0., 0., 0., 0., 0., 0., 0., 0., 0., 0., 0., 0., 0.,\n",
            "        0., 0., 0., 0., 0., 0., 0., 0., 0., 0., 0., 0., 0., 0., 0., 0., 0., 0.,\n",
            "        0., 0., 0., 0., 0., 0., 0., 0., 0., 0., 0., 0., 0., 0., 0., 0., 0., 0.,\n",
            "        0., 0., 0., 0., 1., 1., 1., 1., 1., 1., 1., 1., 1., 1., 1., 1., 1., 1.,\n",
            "        1., 1., 1., 1., 1., 1., 1., 1., 1., 1., 1., 1., 1., 1., 1., 1., 1., 1.,\n",
            "        1., 1., 1., 1., 1., 1., 1., 1., 1., 1., 1., 1., 1., 1., 1., 1., 1., 1.,\n",
            "        1., 1., 1., 1., 1., 1., 1., 1., 1., 1., 1., 1., 1., 1., 1., 1., 1., 1.])\n",
            "Accuracy: 0.4523809523809524\n",
            "<class 'dict'>\n",
            "<class 'dict'>\n",
            "Testing completed check output folder for results\n"
          ]
        },
        {
          "data": {
            "image/png": "[encoded data removed]",
            "text/plain": [
              "<Figure size 640x480 with 1 Axes>"
            ]
          },
          "metadata": {},
          "output_type": "display_data"
        }
      ],
      "source": [
        "import sys\n",
        "sys.path.insert(0,'/content/drive/MyDrive/')\n",
        "from elm_only_evaluation import evaluation,select_device\n",
        "\n",
        "compute_features=False  # make it false if not already computed\n",
        "test_directory='/content/drive/MyDrive/downloads/split_dataset/test'        \n",
        "metadata_json = '/content/drive/MyDrive/output/test/input-metadata.json' \n",
        "tag_to_hash_json = '/content/drive/MyDrive/output/test/input-tag-to-image-hash-list.json'\n",
        "output_dir = '/content/drive/MyDrive/output'\n",
        "checkpoint_path='/content/drive/MyDrive/elm_checkpoints' #load your tag models with different neurons\n",
        "tag_to_test='pos-pixel-art-environmental' # name of category you want to test\n",
        "checkpoints_tag=os.path.join(checkpoints_path,tag_to_test) \n",
        "extension = \"*.pth\"\n",
        "checkpoints = glob.glob(checkpoints_tag + \"/\" + extension)\n",
        "device=select_device()    #pick either gpu or cpu\n",
        "tag_predictions_list=[]\n",
        "neurons_list=[]\n",
        "\n",
        "for checkpoint_path in checkpoints:   #iterate through each checkpoint and make predictions on same data\n",
        " \n",
        "    tag_prob,n_neurons,evaluate,folder_plots= evaluation(compute_features,test_directory,metadata_json,tag_to_hash_json,\n",
        "           output_dir,clip_model,tag_to_test,checkpoint_path,device)\n",
        "    \n",
        "    tag_predictions_list.append(tag_prob)\n",
        "    neurons_list.append(n_neurons)    \n",
        "\n",
        "evaluate.scatter_plot(neurons_list,tag_predictions_list,tag_to_test,folder_plots)  #to check probabilites for different neurons predictions\n"
      ]
    },
    {
      "cell_type": "code",
      "execution_count": null,
      "metadata": {
        "colab": {
          "base_uri": "https://localhost:8080/",
          "height": 489
        },
        "id": "2XndoNhKF8hM",
        "outputId": "2240306f-97a2-4238-ae31-5ebf677e8aab"
      },
      "outputs": [
        {
          "name": "stdout",
          "output_type": "stream",
          "text": [
            "(1000, 1500)\n"
          ]
        },
        {
          "data": {
            "image/png": "[encoded data removed]",
            "text/plain": [
              "<Figure size 640x480 with 1 Axes>"
            ]
          },
          "metadata": {},
          "output_type": "display_data"
        }
      ],
      "source": [
        "import matplotlib.pyplot as plt\n",
        "import glob\n",
        "import numpy as np\n",
        "import sys\n",
        "import torch\n",
        "sys.path.insert(0,'/content/drive/MyDrive/')\n",
        "from elm_model_upd import process_single_image \n",
        "from elm_model_upd import ELMClassifier\n",
        "\n",
        "# Load input image\n",
        "input_image_path ='/content/drive/MyDrive/downloads/split_dataset/test/not-pixel-art/https___i.pinimg.com_originals_f0_bf_dd_f0bfddfc269752ba19971cbfd8c11104.jpg'\n",
        "# Load checkpoints\n",
        "tag='not-pixel-art'\n",
        "checkpoints_path='/content/drive/MyDrive/elm_checkpoints'\n",
        "checkpoints_tag=os.path.join(checkpoints_path,tag)\n",
        "extension = \"*.pth\"\n",
        "checkpoints = glob.glob(checkpoints_tag + \"/\" + extension)\n",
        "\n",
        "\n",
        "# Initialize lists to store the number of neurons and the predicted probabilities\n",
        "neurons_list = []\n",
        "predictions_list = []\n",
        "colors_list = []\n",
        "clip_model= 'ViT-L-14' \n",
        "i=0\n",
        "# Load image and obtain embeddings\n",
        "test_sample=process_single_image(input_image_path,clip_model)\n",
        "# Loop through each checkpoint\n",
        "\n",
        "\n",
        "# Initialize lists to store the number of neurons and the predicted probabilities\n",
        "neurons_list = []\n",
        "class0_predictions_list = []\n",
        "class1_predictions_list = []\n",
        "\n",
        "# Loop through each checkpoint\n",
        "for checkpoint_path in checkpoints:\n",
        "    # Load model\n",
        "    checkpoint = torch.load(checkpoint_path)\n",
        "    model = ELMClassifier(input_size=checkpoint['input_size'], hidden_size=checkpoint['hidden_size'], \n",
        "                        output_size=checkpoint['output_size'])\n",
        "    \n",
        "    # Extract number of neurons from model name or saved configuration\n",
        "    neurons=checkpoint['hidden_size']    \n",
        "    neurons_list.append(neurons)\n",
        "    \n",
        "    # Make predictions on input data\n",
        "    y_pred = model.forward(test_sample)\n",
        "    \n",
        "    # Extract probability of positive class (class 0) and negative class (class 1)\n",
        "    class0_prob, class1_prob = torch.softmax(y_pred, dim=1).detach().cpu().numpy().squeeze()\n",
        "   # class0_prob = class0_prob + np.random.normal(loc=0, scale=0.05, size=1)\n",
        "    class0_predictions_list.append(class0_prob)\n",
        "   # class1_predictions_list.append(class1_prob)\n",
        "\n",
        "# Create scatter plot\n",
        "plt.scatter(neurons_list, class0_predictions_list, label='Tag:'+tag,alpha=0.1)\n",
        "#plt.scatter(neurons_list, class1_predictions_list, label='Class 1')\n",
        "plt.xlabel('Number of Neurons')\n",
        "plt.ylabel('Predicted Probability')\n",
        "plt.title('Different checkpoints predictions')\n",
        "# Set y-axis limits\n",
        "plt.ylim(0, 1)\n",
        "\n",
        "plt.legend()\n",
        "plt.show()\n",
        "\n"
      ]
    },
    {
      "cell_type": "markdown",
      "metadata": {
        "id": "k3buZAz8BNiz"
      },
      "source": [
        "if you want to test only then this script will load checkpoint and perform inference please check this file before running to set different arguments such as filepath and checkpoints etc"
      ]
    },
    {
      "cell_type": "code",
      "execution_count": null,
      "metadata": {
        "colab": {
          "base_uri": "https://localhost:8080/"
        },
        "id": "e0uoOAg0BMZx",
        "outputId": "9a1a593f-31eb-464e-c904-66e8c3f0cced"
      },
      "outputs": [
        {
          "name": "stdout",
          "output_type": "stream",
          "text": [
            "[WARNING] problem with /content/drive/MyDrive/downloads/newdataset/split/val/other-validation/https___i.pinimg.com_originals_00_92_c4_0092c473456acd2e4819da18ac964760.gif, cannot identify image file '/content/drive/MyDrive/downloads/newdataset/split/val/other-validation/https___i.pinimg.com_originals_00_92_c4_0092c473456acd2e4819da18ac964760.gif'\n",
            "[WARNING] file /content/drive/MyDrive/downloads/newdataset/split/val/other-validation/https___i.pinimg.com_originals_00_92_c4_0092c473456acd2e4819da18ac964760.gif is not supported and will be ignored\n",
            "[WARNING]: Input dataset contains empty folder: /content/drive/MyDrive/downloads/newdataset/split/val/pos-environmental-natural]\n",
            "[WARNING]: Input dataset contains empty folder: /content/drive/MyDrive/downloads/newdataset/split/val/pos-pixel-art-environmental]\n",
            "[WARNING]: Input dataset contains empty folder: /content/drive/MyDrive/downloads/newdataset/split/val/pos-pixel-art-machine]\n",
            "[WARNING]: Input dataset contains empty folder: /content/drive/MyDrive/downloads/newdataset/split/val/pos-pixel-art-scifi]\n",
            "[WARNING]: Input dataset contains empty folder: /content/drive/MyDrive/downloads/newdataset/split/val/pos-pixel-art-space]\n",
            "[WARNING]: Input dataset contains empty folder: /content/drive/MyDrive/downloads/newdataset/split/val/pos-pixel-art-texture]\n",
            "[WARNING]: Input dataset contains empty folder: /content/drive/MyDrive/downloads/newdataset/split/val/pos-pixel-art-tutorial]\n",
            "[WARNING]: Input dataset contains empty folder: /content/drive/MyDrive/downloads/newdataset/split/val/pos-scifi]\n",
            "[WARNING]: Input dataset contains empty folder: /content/drive/MyDrive/downloads/newdataset/split/val/pos-sprite-sheet]\n",
            "[WARNING]: Input dataset contains empty folder: /content/drive/MyDrive/downloads/newdataset/split/val/pos-style-anime]\n",
            "[WARNING]: Input dataset contains empty folder: /content/drive/MyDrive/downloads/newdataset/split/val/pos-style-comic]\n",
            "[WARNING]: Input dataset contains empty folder: /content/drive/MyDrive/downloads/newdataset/split/val/pos-style-synth-wave]\n",
            "[WARNING]: Input dataset contains empty folder: /content/drive/MyDrive/downloads/newdataset/split/val/pos-style-tile-based]\n",
            "[WARNING]: Input dataset contains empty folder: /content/drive/MyDrive/downloads/newdataset/split/val/pos-video-game]\n",
            "[WARNING]: Input dataset contains empty folder: /content/drive/MyDrive/downloads/newdataset/split/val/pos-video-game-3d]\n",
            "[WARNING]: Input dataset contains empty folder: /content/drive/MyDrive/downloads/newdataset/split/val/pos-video-game-flat]\n",
            "[WARNING]: Input dataset contains empty folder: /content/drive/MyDrive/downloads/newdataset/split/val/pos-video-game-isometric]\n",
            "[WARNING]: Input dataset contains empty folder: /content/drive/MyDrive/downloads/newdataset/split/val/pos-video-game-map]\n",
            "[WARNING]: Input dataset contains empty folder: /content/drive/MyDrive/downloads/newdataset/split/val/pos-video-game-side-scrolling]\n",
            "[WARNING]: Input dataset contains empty folder: /content/drive/MyDrive/downloads/newdataset/split/val/pos-video-game-style-miltech-kag]\n",
            "[WARNING]: Input dataset contains empty folder: /content/drive/MyDrive/downloads/newdataset/split/val/pos-video-game-top-down]\n",
            "[WARNING]: Input dataset contains empty folder: /content/drive/MyDrive/downloads/newdataset/split/val/pos-video-game-top-perspective]\n",
            "[WARNING]: Input dataset contains empty folder: /content/drive/MyDrive/downloads/newdataset/split/val/pos-waifus]\n",
            "[WARNING]: Input dataset contains empty folder: /content/drive/MyDrive/downloads/newdataset/split/val/video-game-menu]\n",
            "Processing...\n",
            " 54% 7/13 [14:02<12:08, 121.44s/it][WARNING]: image /content/drive/MyDrive/downloads/newdataset/split/val/other-validation/https___i.pinimg.com_originals_00_92_c4_0092c473456acd2e4819da18ac964760.gif was be skipped due to the error cannot identify image file '/content/drive/MyDrive/downloads/newdataset/split/val/other-validation/https___i.pinimg.com_originals_00_92_c4_0092c473456acd2e4819da18ac964760.gif'\n",
            "100% 13/13 [25:33<00:00, 117.99s/it]\n",
            "[INFO] Writing to database table in /content/drive/MyDrive/output_check/dataset_cache.sqlite\n",
            "[INFO] Finished.\n",
            "CUDA not available, using CPU.\n",
            "726\n",
            "726\n",
            "not-pixel-art-digital\n",
            "yr tensor([[0., 1.],\n",
            "        [0., 1.],\n",
            "        [0., 1.],\n",
            "        ...,\n",
            "        [0., 1.],\n",
            "        [0., 1.],\n",
            "        [0., 1.]], grad_fn=<SoftmaxBackward0>)\n",
            "[1 1 1 1 1 1 1 1 1 1 1 1 1 1 1 1 1 1 1 1 1 1 1 1 1 1 1 1 1 1 1 1 1 1 1 1 1\n",
            " 1 1 1 1 1 1 1 1 1 1 1 1 1 1 1 1 1 1 1 1 1 1 1 1 1 1 1 1 1 1 1 1 1 1 1 1 1\n",
            " 1 1 1 1 1 1 1 1 1 1 1 1 1 1 1 1 1 1 1 1 1 1 1 1 1 1 1 1 1 1 1 1 1 1 1 1 1\n",
            " 1 1 1 1 1 1 1 1 1 1 1 1 1 1 1 1 1 1 1 1 1 1 1 1 1 1 1 1 1 1 1 0 1 1 1 1 1\n",
            " 1 1 1 1 1 1 1 1 1 1 1 1 1 1 1 1 1 1 1 1 1 1 1 1 1 1 1 1 0 1 1 1 1 1 1 1 1\n",
            " 1 1 1 1 1 1 1 1 1 1 1 1 1 1 1 1 1 1 1 1 1 1 1 1 1 1 1 1 1 1 1 1 1 1 1 1 1\n",
            " 1 1 1 1 1 1 1 1 1 1 1 1 1 1 1 1 1 1 1 1 1 1 1 1 1 1 1 1 1 1 1 1 1 1 1 1 1\n",
            " 1 1 1 1 1 1 1 1 1 1 0 1 1 1 1 1 1 1 1 1 1 1 0 1 1 1 1 1 1 1 1 1 0 1 1 1 1\n",
            " 1 1 1 1 1 1 1 1 1 1 1 1 1 1 1 1 1 1 1 1 1 1 1 1 1 1 1 1 1 1 1 1 1 1 1 1 1\n",
            " 1 1 1 1 1 1 1 0 1 1 1 1 1 1 1 1 1 1 1 1 1 1 1 1 1 1 1 1 1 1 1 1 1 1 1 1 1\n",
            " 1 1 1 1 1 1 1 1 1 1 1 1 1 1 1 1 1 1 1 1 1 1 1 1 1 1 1 1 1 1 1 1 1 1 1 1 1\n",
            " 1 1 1 1 1 1 1 1 1 1 1 1 1 1 1 1 1 1 1 1 1 1 1 1 1 1 1 1 1 1 1 1 1 1 1 1 1\n",
            " 1 1 1 1 1 1 1 1 1 1 1 1 1 1 1 1 1 1 1 1 1 1 1 0 1 1 1 1 1 1 1 1 1 1 1 1 1\n",
            " 1 1 1 1 1 1 0 1 1 1 1 1 1 1 1 1 1 1 1 1 1 1 1 1 1 1 0 1 1 1 1 1 1 1 1 1 1\n",
            " 1 1 1 1 1 1 1 1 1 1 1 1 0 1 1 1 1 1 1 1 1 1 1 1 1 1 1 1 1 1 1 1 0 1 1 1 1\n",
            " 1 1 1 1 1 1 1 1 1 1 1 1 1 1 1 1 1 1 1 1 1 0 1 1 0 0 1 1 1 1 1 1 1 1 1 1 1\n",
            " 1 1 1 1 1 1 1 1 1 1 1 1 1 1 1 1 1 1 1 1 1 1 1 1 1 1 1 1 1 1 1 1 1 1 1 1 1\n",
            " 1 1 1 1 1 1 1 0 1 1 1 1 1 1 1 1 1 1 1 1 1 1 1 1 1 1 1 1 1 1 1 1 1 1 1 1 1\n",
            " 1 1 1 1 1 1 1 1 1 1 1 1 0 1 1 1 1 1 1 1 1 1 1 1 1 1 1 1 1 1 1 1 1 1 1 0 1\n",
            " 1 1 1 1 0 1 1 1 1 1 1 1 1 1 1 1 1 1 1 1 1 1 1]\n",
            "actual_labels tensor([0., 0., 0., 0., 0., 0., 0., 0., 0., 0., 0., 0., 0., 0., 0., 0., 0., 0.,\n",
            "        0., 0., 0., 0., 0., 0., 0., 0., 0., 0., 0., 0., 0., 0., 0., 0., 0., 0.,\n",
            "        0., 0., 0., 0., 0., 0., 0., 0., 0., 0., 0., 0., 0., 0., 0., 0., 0., 0.,\n",
            "        0., 0., 0., 0., 0., 0., 0., 0., 0., 0., 0., 0., 0., 0., 0., 0., 0., 0.,\n",
            "        0., 0., 0., 0., 0., 0., 0., 0., 0., 0., 0., 0., 0., 0., 0., 0., 0., 0.,\n",
            "        0., 0., 0., 0., 0., 0., 0., 0., 0., 0., 0., 0., 0., 0., 0., 0., 0., 0.,\n",
            "        0., 0., 0., 0., 0., 0., 0., 0., 0., 0., 0., 0., 0., 0., 0., 0., 0., 0.,\n",
            "        0., 0., 0., 0., 0., 0., 0., 0., 0., 0., 0., 0., 0., 0., 0., 0., 0., 0.,\n",
            "        0., 0., 0., 0., 0., 0., 0., 0., 0., 0., 0., 0., 0., 0., 0., 0., 0., 0.,\n",
            "        0., 0., 0., 0., 0., 0., 0., 0., 0., 0., 0., 0., 0., 0., 0., 0., 0., 0.,\n",
            "        0., 0., 0., 0., 0., 0., 0., 0., 0., 0., 0., 0., 0., 0., 0., 0., 0., 0.,\n",
            "        0., 0., 0., 0., 0., 0., 0., 0., 0., 0., 0., 0., 0., 0., 0., 0., 0., 0.,\n",
            "        0., 0., 0., 0., 0., 0., 0., 0., 0., 0., 0., 0., 0., 0., 0., 0., 0., 0.,\n",
            "        0., 0., 0., 0., 0., 0., 0., 0., 0., 0., 0., 0., 0., 0., 0., 0., 0., 0.,\n",
            "        0., 0., 0., 0., 0., 0., 0., 0., 0., 0., 0., 0., 0., 0., 0., 0., 0., 0.,\n",
            "        0., 0., 0., 0., 0., 0., 0., 0., 0., 0., 0., 0., 0., 0., 0., 0., 0., 0.,\n",
            "        0., 0., 0., 0., 0., 0., 0., 0., 0., 0., 0., 0., 0., 0., 0., 0., 0., 0.,\n",
            "        0., 0., 0., 0., 0., 0., 0., 0., 0., 0., 0., 0., 0., 0., 0., 0., 0., 0.,\n",
            "        0., 0., 0., 0., 0., 0., 0., 0., 0., 0., 0., 0., 0., 0., 0., 0., 0., 0.,\n",
            "        0., 0., 0., 0., 0., 0., 0., 0., 0., 0., 0., 0., 0., 0., 0., 0., 0., 0.,\n",
            "        0., 0., 0., 0., 0., 0., 0., 0., 0., 0., 0., 0., 0., 0., 0., 0., 0., 0.,\n",
            "        0., 0., 0., 0., 0., 0., 0., 0., 0., 0., 0., 0., 0., 0., 0., 0., 0., 0.,\n",
            "        0., 0., 0., 0., 0., 0., 0., 0., 0., 0., 0., 0., 0., 0., 0., 0., 0., 0.,\n",
            "        0., 0., 0., 0., 0., 0., 0., 0., 0., 0., 0., 0., 0., 0., 0., 0., 0., 0.,\n",
            "        0., 0., 0., 0., 0., 0., 0., 0., 0., 0., 0., 0., 0., 0., 0., 0., 0., 0.,\n",
            "        0., 0., 0., 0., 0., 0., 0., 0., 0., 0., 0., 0., 0., 0., 0., 0., 0., 0.,\n",
            "        0., 0., 0., 0., 0., 0., 0., 0., 0., 0., 0., 0., 0., 0., 0., 0., 1., 1.,\n",
            "        1., 1., 1., 1., 1., 1., 1., 1., 1., 1., 1., 1., 1., 1., 1., 1., 1., 1.,\n",
            "        1., 1., 1., 1., 1., 1., 1., 1., 1., 1., 1., 1., 1., 1., 1., 1., 1., 1.,\n",
            "        1., 1., 1., 1., 1., 1., 1., 1., 1., 1., 1., 1., 1., 1., 1., 1., 1., 1.,\n",
            "        1., 1., 1., 1., 1., 1., 1., 1., 1., 1., 1., 1., 1., 1., 1., 1., 1., 1.,\n",
            "        1., 1., 1., 1., 1., 1., 1., 1., 1., 1., 1., 1., 1., 1., 1., 1., 1., 1.,\n",
            "        1., 1., 1., 1., 1., 1., 1., 1., 1., 1., 1., 1., 1., 1., 1., 1., 1., 1.,\n",
            "        1., 1., 1., 1., 1., 1., 1., 1., 1., 1., 1., 1., 1., 1., 1., 1., 1., 1.,\n",
            "        1., 1., 1., 1., 1., 1., 1., 1., 1., 1., 1., 1., 1., 1., 1., 1., 1., 1.,\n",
            "        1., 1., 1., 1., 1., 1., 1., 1., 1., 1., 1., 1., 1., 1., 1., 1., 1., 1.,\n",
            "        1., 1., 1., 1., 1., 1., 1., 1., 1., 1., 1., 1., 1., 1., 1., 1., 1., 1.,\n",
            "        1., 1., 1., 1., 1., 1., 1., 1., 1., 1., 1., 1., 1., 1., 1., 1., 1., 1.,\n",
            "        1., 1., 1., 1., 1., 1., 1., 1., 1., 1., 1., 1., 1., 1., 1., 1., 1., 1.,\n",
            "        1., 1., 1., 1., 1., 1., 1., 1., 1., 1., 1., 1., 1., 1., 1., 1., 1., 1.,\n",
            "        1., 1., 1., 1., 1., 1.])\n",
            "Accuracy: 0.3278236914600551\n",
            "<class 'dict'>\n",
            "<class 'dict'>\n",
            "Figure(640x480)\n"
          ]
        }
      ],
      "source": [
        "!python /content/drive/MyDrive/only_inference.py"
      ]
    },
    {
      "cell_type": "code",
      "execution_count": null,
      "metadata": {
        "id": "0s4mM_MM_1Lc"
      },
      "outputs": [],
      "source": []
    },
    {
      "cell_type": "markdown",
      "metadata": {
        "id": "BKx84J3verGN"
      },
      "source": []
    }
  ],
  "metadata": {
    "accelerator": "GPU",
    "colab": {
      "provenance": []
    },
    "gpuClass": "standard",
    "kernelspec": {
      "display_name": "Python 3",
      "name": "python3"
    },
    "language_info": {
      "name": "python"
    },
    "widgets": {
      "application/vnd.jupyter.widget-state+json": {
        "192a997ef26147a891c86acbd1315436": {
          "model_module": "@jupyter-widgets/controls",
          "model_module_version": "1.5.0",
          "model_name": "DescriptionStyleModel",
          "state": {
            "_model_module": "@jupyter-widgets/controls",
            "_model_module_version": "1.5.0",
            "_model_name": "DescriptionStyleModel",
            "_view_count": null,
            "_view_module": "@jupyter-widgets/base",
            "_view_module_version": "1.2.0",
            "_view_name": "StyleView",
            "description_width": ""
          }
        },
        "44f6ec8ba29d4028a200add2c7d861a8": {
          "model_module": "@jupyter-widgets/controls",
          "model_module_version": "1.5.0",
          "model_name": "HBoxModel",
          "state": {
            "_dom_classes": [],
            "_model_module": "@jupyter-widgets/controls",
            "_model_module_version": "1.5.0",
            "_model_name": "HBoxModel",
            "_view_count": null,
            "_view_module": "@jupyter-widgets/controls",
            "_view_module_version": "1.5.0",
            "_view_name": "HBoxView",
            "box_style": "",
            "children": [
              "IPY_MODEL_9e838ea6c34549bea7d0565997bffc13",
              "IPY_MODEL_83c77697c6734508ba708c454a4a4ab6",
              "IPY_MODEL_9a72f70639914b599bac7cae9f1be0ad"
            ],
            "layout": "IPY_MODEL_8ba4994e69494bbab69a8c15e5f990b0"
          }
        },
        "83c77697c6734508ba708c454a4a4ab6": {
          "model_module": "@jupyter-widgets/controls",
          "model_module_version": "1.5.0",
          "model_name": "FloatProgressModel",
          "state": {
            "_dom_classes": [],
            "_model_module": "@jupyter-widgets/controls",
            "_model_module_version": "1.5.0",
            "_model_name": "FloatProgressModel",
            "_view_count": null,
            "_view_module": "@jupyter-widgets/controls",
            "_view_module_version": "1.5.0",
            "_view_name": "ProgressView",
            "bar_style": "success",
            "description": "",
            "description_tooltip": null,
            "layout": "IPY_MODEL_b6f58fd9ea834c80bb236b781a81e562",
            "max": 1710631365,
            "min": 0,
            "orientation": "horizontal",
            "style": "IPY_MODEL_e3132f8a7dc44f998bbc06317a023c76",
            "value": 1710631365
          }
        },
        "8ba4994e69494bbab69a8c15e5f990b0": {
          "model_module": "@jupyter-widgets/base",
          "model_module_version": "1.2.0",
          "model_name": "LayoutModel",
          "state": {
            "_model_module": "@jupyter-widgets/base",
            "_model_module_version": "1.2.0",
            "_model_name": "LayoutModel",
            "_view_count": null,
            "_view_module": "@jupyter-widgets/base",
            "_view_module_version": "1.2.0",
            "_view_name": "LayoutView",
            "align_content": null,
            "align_items": null,
            "align_self": null,
            "border": null,
            "bottom": null,
            "display": null,
            "flex": null,
            "flex_flow": null,
            "grid_area": null,
            "grid_auto_columns": null,
            "grid_auto_flow": null,
            "grid_auto_rows": null,
            "grid_column": null,
            "grid_gap": null,
            "grid_row": null,
            "grid_template_areas": null,
            "grid_template_columns": null,
            "grid_template_rows": null,
            "height": null,
            "justify_content": null,
            "justify_items": null,
            "left": null,
            "margin": null,
            "max_height": null,
            "max_width": null,
            "min_height": null,
            "min_width": null,
            "object_fit": null,
            "object_position": null,
            "order": null,
            "overflow": null,
            "overflow_x": null,
            "overflow_y": null,
            "padding": null,
            "right": null,
            "top": null,
            "visibility": null,
            "width": null
          }
        },
        "967eb2e81af947438fbc680a832ed6e4": {
          "model_module": "@jupyter-widgets/controls",
          "model_module_version": "1.5.0",
          "model_name": "DescriptionStyleModel",
          "state": {
            "_model_module": "@jupyter-widgets/controls",
            "_model_module_version": "1.5.0",
            "_model_name": "DescriptionStyleModel",
            "_view_count": null,
            "_view_module": "@jupyter-widgets/base",
            "_view_module_version": "1.2.0",
            "_view_name": "StyleView",
            "description_width": ""
          }
        },
        "9892abf87424499aadac967652ae6217": {
          "model_module": "@jupyter-widgets/base",
          "model_module_version": "1.2.0",
          "model_name": "LayoutModel",
          "state": {
            "_model_module": "@jupyter-widgets/base",
            "_model_module_version": "1.2.0",
            "_model_name": "LayoutModel",
            "_view_count": null,
            "_view_module": "@jupyter-widgets/base",
            "_view_module_version": "1.2.0",
            "_view_name": "LayoutView",
            "align_content": null,
            "align_items": null,
            "align_self": null,
            "border": null,
            "bottom": null,
            "display": null,
            "flex": null,
            "flex_flow": null,
            "grid_area": null,
            "grid_auto_columns": null,
            "grid_auto_flow": null,
            "grid_auto_rows": null,
            "grid_column": null,
            "grid_gap": null,
            "grid_row": null,
            "grid_template_areas": null,
            "grid_template_columns": null,
            "grid_template_rows": null,
            "height": null,
            "justify_content": null,
            "justify_items": null,
            "left": null,
            "margin": null,
            "max_height": null,
            "max_width": null,
            "min_height": null,
            "min_width": null,
            "object_fit": null,
            "object_position": null,
            "order": null,
            "overflow": null,
            "overflow_x": null,
            "overflow_y": null,
            "padding": null,
            "right": null,
            "top": null,
            "visibility": null,
            "width": null
          }
        },
        "9a72f70639914b599bac7cae9f1be0ad": {
          "model_module": "@jupyter-widgets/controls",
          "model_module_version": "1.5.0",
          "model_name": "HTMLModel",
          "state": {
            "_dom_classes": [],
            "_model_module": "@jupyter-widgets/controls",
            "_model_module_version": "1.5.0",
            "_model_name": "HTMLModel",
            "_view_count": null,
            "_view_module": "@jupyter-widgets/controls",
            "_view_module_version": "1.5.0",
            "_view_name": "HTMLView",
            "description": "",
            "description_tooltip": null,
            "layout": "IPY_MODEL_9892abf87424499aadac967652ae6217",
            "placeholder": "​",
            "style": "IPY_MODEL_967eb2e81af947438fbc680a832ed6e4",
            "value": " 1.71G/1.71G [00:06&lt;00:00, 243MB/s]"
          }
        },
        "9e838ea6c34549bea7d0565997bffc13": {
          "model_module": "@jupyter-widgets/controls",
          "model_module_version": "1.5.0",
          "model_name": "HTMLModel",
          "state": {
            "_dom_classes": [],
            "_model_module": "@jupyter-widgets/controls",
            "_model_module_version": "1.5.0",
            "_model_name": "HTMLModel",
            "_view_count": null,
            "_view_module": "@jupyter-widgets/controls",
            "_view_module_version": "1.5.0",
            "_view_name": "HTMLView",
            "description": "",
            "description_tooltip": null,
            "layout": "IPY_MODEL_a72320649a5148fca31b0d061fcad7ee",
            "placeholder": "​",
            "style": "IPY_MODEL_192a997ef26147a891c86acbd1315436",
            "value": "Downloading (…)ip_pytorch_model.bin: 100%"
          }
        },
        "a72320649a5148fca31b0d061fcad7ee": {
          "model_module": "@jupyter-widgets/base",
          "model_module_version": "1.2.0",
          "model_name": "LayoutModel",
          "state": {
            "_model_module": "@jupyter-widgets/base",
            "_model_module_version": "1.2.0",
            "_model_name": "LayoutModel",
            "_view_count": null,
            "_view_module": "@jupyter-widgets/base",
            "_view_module_version": "1.2.0",
            "_view_name": "LayoutView",
            "align_content": null,
            "align_items": null,
            "align_self": null,
            "border": null,
            "bottom": null,
            "display": null,
            "flex": null,
            "flex_flow": null,
            "grid_area": null,
            "grid_auto_columns": null,
            "grid_auto_flow": null,
            "grid_auto_rows": null,
            "grid_column": null,
            "grid_gap": null,
            "grid_row": null,
            "grid_template_areas": null,
            "grid_template_columns": null,
            "grid_template_rows": null,
            "height": null,
            "justify_content": null,
            "justify_items": null,
            "left": null,
            "margin": null,
            "max_height": null,
            "max_width": null,
            "min_height": null,
            "min_width": null,
            "object_fit": null,
            "object_position": null,
            "order": null,
            "overflow": null,
            "overflow_x": null,
            "overflow_y": null,
            "padding": null,
            "right": null,
            "top": null,
            "visibility": null,
            "width": null
          }
        },
        "b6f58fd9ea834c80bb236b781a81e562": {
          "model_module": "@jupyter-widgets/base",
          "model_module_version": "1.2.0",
          "model_name": "LayoutModel",
          "state": {
            "_model_module": "@jupyter-widgets/base",
            "_model_module_version": "1.2.0",
            "_model_name": "LayoutModel",
            "_view_count": null,
            "_view_module": "@jupyter-widgets/base",
            "_view_module_version": "1.2.0",
            "_view_name": "LayoutView",
            "align_content": null,
            "align_items": null,
            "align_self": null,
            "border": null,
            "bottom": null,
            "display": null,
            "flex": null,
            "flex_flow": null,
            "grid_area": null,
            "grid_auto_columns": null,
            "grid_auto_flow": null,
            "grid_auto_rows": null,
            "grid_column": null,
            "grid_gap": null,
            "grid_row": null,
            "grid_template_areas": null,
            "grid_template_columns": null,
            "grid_template_rows": null,
            "height": null,
            "justify_content": null,
            "justify_items": null,
            "left": null,
            "margin": null,
            "max_height": null,
            "max_width": null,
            "min_height": null,
            "min_width": null,
            "object_fit": null,
            "object_position": null,
            "order": null,
            "overflow": null,
            "overflow_x": null,
            "overflow_y": null,
            "padding": null,
            "right": null,
            "top": null,
            "visibility": null,
            "width": null
          }
        },
        "e3132f8a7dc44f998bbc06317a023c76": {
          "model_module": "@jupyter-widgets/controls",
          "model_module_version": "1.5.0",
          "model_name": "ProgressStyleModel",
          "state": {
            "_model_module": "@jupyter-widgets/controls",
            "_model_module_version": "1.5.0",
            "_model_name": "ProgressStyleModel",
            "_view_count": null,
            "_view_module": "@jupyter-widgets/base",
            "_view_module_version": "1.2.0",
            "_view_name": "StyleView",
            "bar_color": null,
            "description_width": ""
          }
        }
      }
    }
  },
  "nbformat": 4,
  "nbformat_minor": 0
}
